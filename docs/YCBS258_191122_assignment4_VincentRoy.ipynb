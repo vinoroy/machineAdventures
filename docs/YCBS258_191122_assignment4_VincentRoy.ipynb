{
 "cells": [
  {
   "cell_type": "markdown",
   "metadata": {
    "colab_type": "text",
    "id": "23EJZLcUe-Vj"
   },
   "source": [
    "#YCBS258\n",
    "\n",
    "##Assignment #4\n",
    "\n",
    "Vincent Roy ID : 119244546\n"
   ]
  },
  {
   "cell_type": "markdown",
   "metadata": {
    "colab_type": "text",
    "id": "PA25N-1uAQ_i"
   },
   "source": [
    "# MNIST Autoencoder\n",
    "### Directives\n",
    "* Create the autoencoders described below, you can play with the topology, those are just starting points\n",
    "* Use GPU runtime\n",
    "* Print 10 inputs and their associated outputs\n",
    "* Don't forget to normalize your data\n",
    "* Use the Functional API for Keras\n",
    "\n",
    "### Autoencoders to build\n",
    "1. Stacked 784 - 392 - 196 - 392 - 784 (tied weights)\n",
    "2. Convolutional Encoder (conv, maxpool, conv, maxpool, conv, maxpool). Decoder (conv, upsample2d, conv, upsample2d, conv, upsample2d, conv)\n",
    "3. VAE\n"
   ]
  },
  {
   "cell_type": "code",
   "execution_count": 1,
   "metadata": {
    "colab": {
     "base_uri": "https://localhost:8080/",
     "height": 1000
    },
    "colab_type": "code",
    "id": "OgW3IHzRNUKh",
    "outputId": "2778d779-f058-425a-d52a-8ad824fe5b78"
   },
   "outputs": [
    {
     "name": "stdout",
     "output_type": "stream",
     "text": [
      "Collecting tensorflow\n",
      "\u001b[?25l  Downloading https://files.pythonhosted.org/packages/46/0f/7bd55361168bb32796b360ad15a25de6966c9c1beb58a8e30c01c8279862/tensorflow-2.0.0-cp36-cp36m-manylinux2010_x86_64.whl (86.3MB)\n",
      "\u001b[K     |████████████████████████████████| 86.3MB 1.2MB/s \n",
      "\u001b[?25hRequirement already satisfied, skipping upgrade: keras-preprocessing>=1.0.5 in /usr/local/lib/python3.6/dist-packages (from tensorflow) (1.1.0)\n",
      "Collecting tensorboard<2.1.0,>=2.0.0\n",
      "\u001b[?25l  Downloading https://files.pythonhosted.org/packages/d3/9e/a48cd34dd7b672ffc227b566f7d16d63c62c58b542d54efa45848c395dd4/tensorboard-2.0.1-py3-none-any.whl (3.8MB)\n",
      "\u001b[K     |████████████████████████████████| 3.8MB 51.1MB/s \n",
      "\u001b[?25hRequirement already satisfied, skipping upgrade: wheel>=0.26 in /usr/local/lib/python3.6/dist-packages (from tensorflow) (0.33.6)\n",
      "Requirement already satisfied, skipping upgrade: numpy<2.0,>=1.16.0 in /usr/local/lib/python3.6/dist-packages (from tensorflow) (1.17.4)\n",
      "Requirement already satisfied, skipping upgrade: six>=1.10.0 in /usr/local/lib/python3.6/dist-packages (from tensorflow) (1.12.0)\n",
      "Requirement already satisfied, skipping upgrade: protobuf>=3.6.1 in /usr/local/lib/python3.6/dist-packages (from tensorflow) (3.10.0)\n",
      "Requirement already satisfied, skipping upgrade: keras-applications>=1.0.8 in /usr/local/lib/python3.6/dist-packages (from tensorflow) (1.0.8)\n",
      "Requirement already satisfied, skipping upgrade: opt-einsum>=2.3.2 in /usr/local/lib/python3.6/dist-packages (from tensorflow) (3.1.0)\n",
      "Requirement already satisfied, skipping upgrade: google-pasta>=0.1.6 in /usr/local/lib/python3.6/dist-packages (from tensorflow) (0.1.8)\n",
      "Requirement already satisfied, skipping upgrade: grpcio>=1.8.6 in /usr/local/lib/python3.6/dist-packages (from tensorflow) (1.15.0)\n",
      "Collecting tensorflow-estimator<2.1.0,>=2.0.0\n",
      "\u001b[?25l  Downloading https://files.pythonhosted.org/packages/fc/08/8b927337b7019c374719145d1dceba21a8bb909b93b1ad6f8fb7d22c1ca1/tensorflow_estimator-2.0.1-py2.py3-none-any.whl (449kB)\n",
      "\u001b[K     |████████████████████████████████| 450kB 53.0MB/s \n",
      "\u001b[?25hRequirement already satisfied, skipping upgrade: wrapt>=1.11.1 in /usr/local/lib/python3.6/dist-packages (from tensorflow) (1.11.2)\n",
      "Requirement already satisfied, skipping upgrade: absl-py>=0.7.0 in /usr/local/lib/python3.6/dist-packages (from tensorflow) (0.8.1)\n",
      "Requirement already satisfied, skipping upgrade: gast==0.2.2 in /usr/local/lib/python3.6/dist-packages (from tensorflow) (0.2.2)\n",
      "Requirement already satisfied, skipping upgrade: astor>=0.6.0 in /usr/local/lib/python3.6/dist-packages (from tensorflow) (0.8.0)\n",
      "Requirement already satisfied, skipping upgrade: termcolor>=1.1.0 in /usr/local/lib/python3.6/dist-packages (from tensorflow) (1.1.0)\n",
      "Requirement already satisfied, skipping upgrade: setuptools>=41.0.0 in /usr/local/lib/python3.6/dist-packages (from tensorboard<2.1.0,>=2.0.0->tensorflow) (41.6.0)\n",
      "Requirement already satisfied, skipping upgrade: werkzeug>=0.11.15 in /usr/local/lib/python3.6/dist-packages (from tensorboard<2.1.0,>=2.0.0->tensorflow) (0.16.0)\n",
      "Collecting google-auth<2,>=1.6.3\n",
      "\u001b[?25l  Downloading https://files.pythonhosted.org/packages/7b/cb/786dc53d93494784935a62947643b48250b84a882474e714f9af5e1a1928/google_auth-1.7.1-py2.py3-none-any.whl (74kB)\n",
      "\u001b[K     |████████████████████████████████| 81kB 11.0MB/s \n",
      "\u001b[?25hRequirement already satisfied, skipping upgrade: markdown>=2.6.8 in /usr/local/lib/python3.6/dist-packages (from tensorboard<2.1.0,>=2.0.0->tensorflow) (3.1.1)\n",
      "Requirement already satisfied, skipping upgrade: google-auth-oauthlib<0.5,>=0.4.1 in /usr/local/lib/python3.6/dist-packages (from tensorboard<2.1.0,>=2.0.0->tensorflow) (0.4.1)\n",
      "Requirement already satisfied, skipping upgrade: h5py in /usr/local/lib/python3.6/dist-packages (from keras-applications>=1.0.8->tensorflow) (2.8.0)\n",
      "Requirement already satisfied, skipping upgrade: cachetools<3.2,>=2.0.0 in /usr/local/lib/python3.6/dist-packages (from google-auth<2,>=1.6.3->tensorboard<2.1.0,>=2.0.0->tensorflow) (3.1.1)\n",
      "Requirement already satisfied, skipping upgrade: rsa<4.1,>=3.1.4 in /usr/local/lib/python3.6/dist-packages (from google-auth<2,>=1.6.3->tensorboard<2.1.0,>=2.0.0->tensorflow) (4.0)\n",
      "Requirement already satisfied, skipping upgrade: pyasn1-modules>=0.2.1 in /usr/local/lib/python3.6/dist-packages (from google-auth<2,>=1.6.3->tensorboard<2.1.0,>=2.0.0->tensorflow) (0.2.7)\n",
      "Requirement already satisfied, skipping upgrade: requests-oauthlib>=0.7.0 in /usr/local/lib/python3.6/dist-packages (from google-auth-oauthlib<0.5,>=0.4.1->tensorboard<2.1.0,>=2.0.0->tensorflow) (1.3.0)\n",
      "Requirement already satisfied, skipping upgrade: pyasn1>=0.1.3 in /usr/local/lib/python3.6/dist-packages (from rsa<4.1,>=3.1.4->google-auth<2,>=1.6.3->tensorboard<2.1.0,>=2.0.0->tensorflow) (0.4.7)\n",
      "Requirement already satisfied, skipping upgrade: requests>=2.0.0 in /usr/local/lib/python3.6/dist-packages (from requests-oauthlib>=0.7.0->google-auth-oauthlib<0.5,>=0.4.1->tensorboard<2.1.0,>=2.0.0->tensorflow) (2.21.0)\n",
      "Requirement already satisfied, skipping upgrade: oauthlib>=3.0.0 in /usr/local/lib/python3.6/dist-packages (from requests-oauthlib>=0.7.0->google-auth-oauthlib<0.5,>=0.4.1->tensorboard<2.1.0,>=2.0.0->tensorflow) (3.1.0)\n",
      "Requirement already satisfied, skipping upgrade: urllib3<1.25,>=1.21.1 in /usr/local/lib/python3.6/dist-packages (from requests>=2.0.0->requests-oauthlib>=0.7.0->google-auth-oauthlib<0.5,>=0.4.1->tensorboard<2.1.0,>=2.0.0->tensorflow) (1.24.3)\n",
      "Requirement already satisfied, skipping upgrade: chardet<3.1.0,>=3.0.2 in /usr/local/lib/python3.6/dist-packages (from requests>=2.0.0->requests-oauthlib>=0.7.0->google-auth-oauthlib<0.5,>=0.4.1->tensorboard<2.1.0,>=2.0.0->tensorflow) (3.0.4)\n",
      "Requirement already satisfied, skipping upgrade: idna<2.9,>=2.5 in /usr/local/lib/python3.6/dist-packages (from requests>=2.0.0->requests-oauthlib>=0.7.0->google-auth-oauthlib<0.5,>=0.4.1->tensorboard<2.1.0,>=2.0.0->tensorflow) (2.8)\n",
      "Requirement already satisfied, skipping upgrade: certifi>=2017.4.17 in /usr/local/lib/python3.6/dist-packages (from requests>=2.0.0->requests-oauthlib>=0.7.0->google-auth-oauthlib<0.5,>=0.4.1->tensorboard<2.1.0,>=2.0.0->tensorflow) (2019.9.11)\n",
      "\u001b[31mERROR: tensorboard 2.0.1 has requirement grpcio>=1.24.3, but you'll have grpcio 1.15.0 which is incompatible.\u001b[0m\n",
      "\u001b[31mERROR: google-colab 1.0.0 has requirement google-auth~=1.4.0, but you'll have google-auth 1.7.1 which is incompatible.\u001b[0m\n",
      "Installing collected packages: google-auth, tensorboard, tensorflow-estimator, tensorflow\n",
      "  Found existing installation: google-auth 1.4.2\n",
      "    Uninstalling google-auth-1.4.2:\n",
      "      Successfully uninstalled google-auth-1.4.2\n",
      "  Found existing installation: tensorboard 1.15.0\n",
      "    Uninstalling tensorboard-1.15.0:\n",
      "      Successfully uninstalled tensorboard-1.15.0\n",
      "  Found existing installation: tensorflow-estimator 1.15.1\n",
      "    Uninstalling tensorflow-estimator-1.15.1:\n",
      "      Successfully uninstalled tensorflow-estimator-1.15.1\n",
      "  Found existing installation: tensorflow 1.15.0\n",
      "    Uninstalling tensorflow-1.15.0:\n",
      "      Successfully uninstalled tensorflow-1.15.0\n",
      "Successfully installed google-auth-1.7.1 tensorboard-2.0.1 tensorflow-2.0.0 tensorflow-estimator-2.0.1\n"
     ]
    },
    {
     "data": {
      "application/vnd.colab-display-data+json": {
       "pip_warning": {
        "packages": [
         "google"
        ]
       }
      }
     },
     "metadata": {
      "tags": []
     },
     "output_type": "display_data"
    }
   ],
   "source": [
    "# Choose Python 3 runtime\n",
    "!pip install --upgrade tensorflow"
   ]
  },
  {
   "cell_type": "code",
   "execution_count": 2,
   "metadata": {
    "colab": {
     "base_uri": "https://localhost:8080/",
     "height": 52
    },
    "colab_type": "code",
    "id": "DL5IEL-8FLNR",
    "outputId": "d3f67570-591c-4744-d233-0b1921d27efd"
   },
   "outputs": [
    {
     "name": "stderr",
     "output_type": "stream",
     "text": [
      "Using TensorFlow backend.\n"
     ]
    },
    {
     "data": {
      "text/plain": [
       "'2.0.0'"
      ]
     },
     "execution_count": 2,
     "metadata": {
      "tags": []
     },
     "output_type": "execute_result"
    }
   ],
   "source": [
    "# import all of th libraries to create and run the models\n",
    "import tensorflow as tf\n",
    "import numpy as np\n",
    "import matplotlib.pyplot as plt\n",
    "\n",
    "from tensorflow import keras\n",
    "from tensorflow.keras.layers import *\n",
    "from tensorflow.keras.utils import to_categorical\n",
    "from keras.datasets import mnist\n",
    "\n",
    "tf.__version__"
   ]
  },
  {
   "cell_type": "code",
   "execution_count": 3,
   "metadata": {
    "colab": {
     "base_uri": "https://localhost:8080/",
     "height": 34
    },
    "colab_type": "code",
    "id": "vG6jpTI9ANGq",
    "outputId": "44f3e693-54f1-4185-cb01-6e80716fe53a"
   },
   "outputs": [
    {
     "data": {
      "text/plain": [
       "(70000, 28, 28)"
      ]
     },
     "execution_count": 3,
     "metadata": {
      "tags": []
     },
     "output_type": "execute_result"
    }
   ],
   "source": [
    "# import the mnist data set and combine the test and the train data\n",
    "(X_train, _), (X_test, _) = mnist.load_data()\n",
    "all_data = np.concatenate((X_train, X_test))\n",
    "all_data.shape"
   ]
  },
  {
   "cell_type": "code",
   "execution_count": 0,
   "metadata": {
    "colab": {},
    "colab_type": "code",
    "id": "Psx3sQEyIksb"
   },
   "outputs": [],
   "source": [
    "# convert the data to float 32 and normalize by dividing by 255\n",
    "all_data = all_data.astype(np.float32) / 255\n",
    "X_train, X_valid = all_data[:-5000], all_data[-5000:]"
   ]
  },
  {
   "cell_type": "code",
   "execution_count": 5,
   "metadata": {
    "colab": {
     "base_uri": "https://localhost:8080/",
     "height": 34
    },
    "colab_type": "code",
    "id": "xHjiu0p6UUbZ",
    "outputId": "9713ca32-1090-4419-ad47-d7e5495d0403"
   },
   "outputs": [
    {
     "data": {
      "text/plain": [
       "(65000, 28, 28)"
      ]
     },
     "execution_count": 5,
     "metadata": {
      "tags": []
     },
     "output_type": "execute_result"
    }
   ],
   "source": [
    "# ensure that the shape of the data set is ok\n",
    "X_train.shape"
   ]
  },
  {
   "cell_type": "code",
   "execution_count": 0,
   "metadata": {
    "colab": {},
    "colab_type": "code",
    "id": "M4AGQW74ASeo"
   },
   "outputs": [],
   "source": [
    "# function used to print the the first 9 digits of the data set\n",
    "def print_first_9(data):\n",
    "  fig = plt.figure()\n",
    "  for i in range(9):\n",
    "    plt.subplot(3,3,i+1)\n",
    "    plt.tight_layout()\n",
    "    plt.imshow(data[i], interpolation='none')\n",
    "    plt.xticks([])\n",
    "    plt.yticks([])"
   ]
  },
  {
   "cell_type": "code",
   "execution_count": 7,
   "metadata": {
    "colab": {
     "base_uri": "https://localhost:8080/",
     "height": 284
    },
    "colab_type": "code",
    "id": "w5DssdRVAT1F",
    "outputId": "54dac36b-3d8a-41b9-c416-5a01b04836be"
   },
   "outputs": [
    {
     "data": {
      "image/png": "[encoded data removed]",
      "text/plain": [
       "<Figure size 432x288 with 9 Axes>"
      ]
     },
     "metadata": {
      "tags": []
     },
     "output_type": "display_data"
    }
   ],
   "source": [
    "print_first_9(all_data[-9:])"
   ]
  },
  {
   "cell_type": "code",
   "execution_count": 0,
   "metadata": {
    "colab": {},
    "colab_type": "code",
    "id": "OhdTN0Rae-W-"
   },
   "outputs": [],
   "source": [
    "# helper functon to display the original image with respect to the reconstructed image\n",
    "def show_reconstructions(model, images=X_valid, n_images=5):\n",
    "    reconstructions = model.predict(images[:n_images])\n",
    "    fig = plt.figure(figsize=(n_images * 1.5, 3))\n",
    "    for image_index in range(n_images):\n",
    "        plt.subplot(2, n_images, 1 + image_index)\n",
    "        plot_image(images[image_index])\n",
    "        plt.subplot(2, n_images, 1 + n_images + image_index)\n",
    "        plot_image(reconstructions[image_index])\n",
    "        "
   ]
  },
  {
   "cell_type": "code",
   "execution_count": 0,
   "metadata": {
    "colab": {},
    "colab_type": "code",
    "id": "JANzyKl_e-XF"
   },
   "outputs": [],
   "source": [
    "# helper function to plot an image\n",
    "def plot_image(image):\n",
    "    plt.imshow(image, cmap=\"binary\")\n",
    "    plt.axis(\"off\")"
   ]
  },
  {
   "cell_type": "markdown",
   "metadata": {
    "colab_type": "text",
    "id": "6TGRVvuue-Xc"
   },
   "source": [
    "##Problem 1\n",
    "\n",
    "Creation of a stacked autoencoder with dense layer architecture as follows 784 - 392 - 196 - 392 - 784 and tied weights\n",
    "\n",
    "####Note\n",
    "\n",
    "I tried to program the tied autoencoder using the Functional API. However, this did not work so I finally used the sequential approach. You will find a working version of the sequential version below, as well as two attempts two create the model using the functional API. Note that I did sent an email for help but I got no response."
   ]
  },
  {
   "cell_type": "code",
   "execution_count": 0,
   "metadata": {
    "colab": {},
    "colab_type": "code",
    "id": "nppu3uaYfcuT"
   },
   "outputs": [],
   "source": [
    "# this class enables us to tie the weights of a given layer to that of a previous layer in the autoencoder\n",
    "class DenseTranspose(keras.layers.Layer):\n",
    "    def __init__(self, dense, activation=None, **kwargs):\n",
    "        self.dense = dense\n",
    "        self.activation = keras.activations.get(activation)\n",
    "        super().__init__(**kwargs)\n",
    "    def build(self, batch_input_shape):\n",
    "        self.biases = self.add_weight(name=\"bias\",\n",
    "                                      shape=[self.dense.input_shape[-1]],\n",
    "                                      initializer=\"zeros\")\n",
    "        super().build(batch_input_shape)\n",
    "    def call(self, inputs):\n",
    "        z = tf.matmul(inputs, self.dense.weights[0], transpose_b=True)\n",
    "        return self.activation(z + self.biases)"
   ]
  },
  {
   "cell_type": "code",
   "execution_count": 0,
   "metadata": {
    "colab": {},
    "colab_type": "code",
    "id": "6-Bfc33Ufc_r"
   },
   "outputs": [],
   "source": [
    "# customized accuracy funtion\n",
    "def rounded_accuracy(y_true, y_pred):\n",
    "    return keras.metrics.binary_accuracy(tf.round(y_true), tf.round(y_pred))"
   ]
  },
  {
   "cell_type": "code",
   "execution_count": 17,
   "metadata": {
    "colab": {
     "base_uri": "https://localhost:8080/",
     "height": 382
    },
    "colab_type": "code",
    "id": "3SQP-_nBOQ2M",
    "outputId": "215ebc62-7fb7-4aa3-8a5f-88830137d579"
   },
   "outputs": [
    {
     "name": "stdout",
     "output_type": "stream",
     "text": [
      "Train on 65000 samples, validate on 5000 samples\n",
      "Epoch 1/10\n",
      "65000/65000 [==============================] - 47s 717us/sample - loss: 0.1651 - rounded_accuracy: 0.9350 - val_loss: 0.1293 - val_rounded_accuracy: 0.9555\n",
      "Epoch 2/10\n",
      "65000/65000 [==============================] - 46s 706us/sample - loss: 0.1181 - rounded_accuracy: 0.9599 - val_loss: 0.1104 - val_rounded_accuracy: 0.9636\n",
      "Epoch 3/10\n",
      "65000/65000 [==============================] - 45s 692us/sample - loss: 0.1047 - rounded_accuracy: 0.9665 - val_loss: 0.0997 - val_rounded_accuracy: 0.9703\n",
      "Epoch 4/10\n",
      "65000/65000 [==============================] - 45s 699us/sample - loss: 0.0981 - rounded_accuracy: 0.9698 - val_loss: 0.0945 - val_rounded_accuracy: 0.9730\n",
      "Epoch 5/10\n",
      "65000/65000 [==============================] - 46s 708us/sample - loss: 0.0937 - rounded_accuracy: 0.9721 - val_loss: 0.0913 - val_rounded_accuracy: 0.9740\n",
      "Epoch 6/10\n",
      "65000/65000 [==============================] - 47s 719us/sample - loss: 0.0906 - rounded_accuracy: 0.9737 - val_loss: 0.0890 - val_rounded_accuracy: 0.9752\n",
      "Epoch 7/10\n",
      "65000/65000 [==============================] - 45s 693us/sample - loss: 0.0882 - rounded_accuracy: 0.9750 - val_loss: 0.0872 - val_rounded_accuracy: 0.9763\n",
      "Epoch 8/10\n",
      "65000/65000 [==============================] - 45s 693us/sample - loss: 0.0864 - rounded_accuracy: 0.9760 - val_loss: 0.0861 - val_rounded_accuracy: 0.9765\n",
      "Epoch 9/10\n",
      "65000/65000 [==============================] - 45s 689us/sample - loss: 0.0849 - rounded_accuracy: 0.9768 - val_loss: 0.0862 - val_rounded_accuracy: 0.9759\n",
      "Epoch 10/10\n",
      "65000/65000 [==============================] - 45s 697us/sample - loss: 0.0837 - rounded_accuracy: 0.9775 - val_loss: 0.0830 - val_rounded_accuracy: 0.9784\n"
     ]
    }
   ],
   "source": [
    "keras.backend.clear_session()\n",
    "np.random.seed(42)\n",
    "\n",
    "# create the stacked autoencoder with tied weights\n",
    "\n",
    "# the encoder\n",
    "dense_1 = keras.layers.Dense(784, activation=\"selu\")\n",
    "dense_2 = keras.layers.Dense(392, activation=\"selu\")\n",
    "dense_3 = keras.layers.Dense(196, activation=\"selu\")\n",
    "\n",
    "tied_encoder = keras.models.Sequential([\n",
    "    keras.layers.Flatten(input_shape=[28, 28]),\n",
    "    dense_1,\n",
    "    dense_2,\n",
    "    dense_3,\n",
    "])\n",
    "\n",
    "\n",
    "# the decoder\n",
    "tied_decoder = keras.models.Sequential([\n",
    "    DenseTranspose(dense_3, activation=\"selu\"),\n",
    "    DenseTranspose(dense_2, activation=\"sigmoid\"),\n",
    "    DenseTranspose(dense_1, activation=\"sigmoid\"),\n",
    "    keras.layers.Reshape([28, 28])\n",
    "])\n",
    "\n",
    "\n",
    "# assemble the model\n",
    "tiedAuto = keras.models.Sequential([tied_encoder, tied_decoder])\n",
    "\n",
    "# compile and fit the model\n",
    "tiedAuto.compile(loss=\"binary_crossentropy\",\n",
    "                optimizer=keras.optimizers.SGD(lr=1.5), metrics=[rounded_accuracy])\n",
    "history = tiedAuto.fit(X_train, X_train, epochs=10,\n",
    "                      validation_data=[X_valid, X_valid])\n",
    "\n"
   ]
  },
  {
   "cell_type": "code",
   "execution_count": 18,
   "metadata": {
    "colab": {
     "base_uri": "https://localhost:8080/",
     "height": 279
    },
    "colab_type": "code",
    "id": "WUkdL-pBe-Xs",
    "outputId": "3e9687a1-a2c3-49d6-c5fb-09f9dd862b94"
   },
   "outputs": [
    {
     "data": {
      "image/png": "[encoded data removed]",
      "text/plain": [
       "<Figure size 432x288 with 1 Axes>"
      ]
     },
     "metadata": {
      "tags": []
     },
     "output_type": "display_data"
    }
   ],
   "source": [
    "# summarize history for loss\n",
    "fig, ax1 = plt.subplots()\n",
    "\n",
    "color = 'tab:red'\n",
    "ax1.set_xlabel('epochs')\n",
    "ax1.set_ylabel('loss', color=color)\n",
    "ax1.plot(history.history['loss'], color=color)\n",
    "ax1.tick_params(axis='y', labelcolor=color)"
   ]
  },
  {
   "cell_type": "code",
   "execution_count": 19,
   "metadata": {
    "colab": {
     "base_uri": "https://localhost:8080/",
     "height": 192
    },
    "colab_type": "code",
    "id": "DS-eewouK4Hp",
    "outputId": "df2298fe-65a6-4693-e6fe-b3f5db0b958f"
   },
   "outputs": [
    {
     "data": {
      "image/png": "[encoded data removed]",
      "text/plain": [
       "<Figure size 540x216 with 10 Axes>"
      ]
     },
     "metadata": {
      "tags": []
     },
     "output_type": "display_data"
    }
   ],
   "source": [
    "# show the actual images vs the reconstruction\n",
    "show_reconstructions(tiedAuto)\n",
    "plt.show()"
   ]
  },
  {
   "cell_type": "code",
   "execution_count": 0,
   "metadata": {
    "colab": {},
    "colab_type": "code",
    "id": "GVz-mItOLdPz"
   },
   "outputs": [],
   "source": [
    "# 1 attempt at functional tied autoencoder\n",
    "\n",
    "keras.backend.clear_session()\n",
    "np.random.seed(42)\n",
    "\n",
    "inputs_1 = keras.Input(shape=(28,28))\n",
    "re = Reshape([28, 28, 1], input_shape=[28, 28])(inputs_1)\n",
    "dense_1 = keras.layers.Dense(784, activation=\"selu\")(re)\n",
    "dense_2 = keras.layers.Dense(392, activation=\"selu\")(dense_1)\n",
    "dense_3 = keras.layers.Dense(196, activation=\"selu\")(dense_2)\n",
    "\n",
    "\n",
    "denseTP_1 = DenseTranspose(dense_3, activation=\"selu\")\n",
    "denseTP_2 = DenseTranspose(dense_2, activation=\"sigmoid\")\n",
    "denseTP_3 = DenseTranspose(dense_1, activation=\"sigmoid\")\n",
    "final = Reshape([28, 28])(denseTP_3)\n",
    "\n",
    "\n",
    "tied_decoder = keras.Model(inputs_1,final)\n",
    "\n",
    "\n",
    "tied_decoder.compile(loss=\"binary_crossentropy\",\n",
    "                optimizer=keras.optimizers.SGD(lr=1.5), metrics=[rounded_accuracy])\n"
   ]
  },
  {
   "cell_type": "code",
   "execution_count": 0,
   "metadata": {
    "colab": {},
    "colab_type": "code",
    "id": "Rm6G3hKZNRF3"
   },
   "outputs": [],
   "source": [
    "# 2 attempt at tied functional autoencoder\n",
    "\n",
    "eInputs = keras.layers.Input(shape=[28, 28])\n",
    "flat = keras.layers.Flatten()(eInputs)\n",
    "d1 = keras.layers.Dense(784, activation=\"selu\")(flat)\n",
    "d2 = keras.layers.Dense(392, activation=\"selu\")(d1)\n",
    "d3 = keras.layers.Dense(196, activation=\"selu\")(d2)\n",
    "\n",
    "tiedEncoder = keras.models.Model(\n",
    "    inputs=[eInputs], outputs=[d3])\n",
    "\n",
    "dInputs = keras.layers.Input(shape=[196])\n",
    "dt1 = DenseTranspose(d3, activation=\"selu\")(dInputs)\n",
    "dt2 = DenseTranspose(d2, activation=\"selu\")(dt1)\n",
    "dt3 = DenseTranspose(d1, activation=\"selu\")(dt2)\n",
    "\n",
    "tieDecoder = keras.models.Model(inputs=[dInputs], outputs=[dt3])\n"
   ]
  },
  {
   "cell_type": "markdown",
   "metadata": {
    "colab_type": "text",
    "id": "g7pYL_MNj7Jy"
   },
   "source": [
    "##Problem 2\n",
    "\n",
    "Creation of a Convolutional Encoder (conv, maxpool, conv, maxpool, conv, maxpool). Decoder (conv, upsample2d, conv, upsample2d, conv, upsample2d, conv)"
   ]
  },
  {
   "cell_type": "code",
   "execution_count": 20,
   "metadata": {
    "colab": {
     "base_uri": "https://localhost:8080/",
     "height": 712
    },
    "colab_type": "code",
    "id": "b6fCfKBr2hoK",
    "outputId": "137c5dd7-dc14-403f-8f4c-e46939dd49c9"
   },
   "outputs": [
    {
     "name": "stdout",
     "output_type": "stream",
     "text": [
      "Model: \"model\"\n",
      "_________________________________________________________________\n",
      "Layer (type)                 Output Shape              Param #   \n",
      "=================================================================\n",
      "input_1 (InputLayer)         [(None, 28, 28)]          0         \n",
      "_________________________________________________________________\n",
      "reshape_1 (Reshape)          (None, 28, 28, 1)         0         \n",
      "_________________________________________________________________\n",
      "conv2d (Conv2D)              (None, 28, 28, 64)        640       \n",
      "_________________________________________________________________\n",
      "max_pooling2d (MaxPooling2D) (None, 14, 14, 64)        0         \n",
      "_________________________________________________________________\n",
      "conv2d_1 (Conv2D)            (None, 14, 14, 32)        18464     \n",
      "_________________________________________________________________\n",
      "max_pooling2d_1 (MaxPooling2 (None, 7, 7, 32)          0         \n",
      "_________________________________________________________________\n",
      "conv2d_2 (Conv2D)            (None, 7, 7, 16)          4624      \n",
      "_________________________________________________________________\n",
      "max_pooling2d_2 (MaxPooling2 (None, 4, 4, 16)          0         \n",
      "_________________________________________________________________\n",
      "conv2d_3 (Conv2D)            (None, 4, 4, 16)          2320      \n",
      "_________________________________________________________________\n",
      "up_sampling2d (UpSampling2D) (None, 8, 8, 16)          0         \n",
      "_________________________________________________________________\n",
      "conv2d_4 (Conv2D)            (None, 8, 8, 32)          4640      \n",
      "_________________________________________________________________\n",
      "up_sampling2d_1 (UpSampling2 (None, 16, 16, 32)        0         \n",
      "_________________________________________________________________\n",
      "conv2d_5 (Conv2D)            (None, 14, 14, 64)        18496     \n",
      "_________________________________________________________________\n",
      "up_sampling2d_2 (UpSampling2 (None, 28, 28, 64)        0         \n",
      "_________________________________________________________________\n",
      "conv2d_6 (Conv2D)            (None, 28, 28, 1)         577       \n",
      "_________________________________________________________________\n",
      "reshape_2 (Reshape)          (None, 28, 28)            0         \n",
      "=================================================================\n",
      "Total params: 49,761\n",
      "Trainable params: 49,761\n",
      "Non-trainable params: 0\n",
      "_________________________________________________________________\n"
     ]
    }
   ],
   "source": [
    "tf.random.set_seed(42)\n",
    "np.random.seed(42)\n",
    "\n",
    "inputs = Input(shape=(28,28))\n",
    "\n",
    "# creation of the convolutional autoencoder\n",
    "\n",
    "# encoder part\n",
    "re = Reshape([28, 28, 1], input_shape=[28, 28])(inputs)\n",
    "x1 = Conv2D(64, (3, 3), activation='relu', padding='same')(re)\n",
    "x1 = MaxPool2D( (2, 2), padding='same')(x1)\n",
    "x2 = Conv2D(32, (3, 3), activation='relu', padding='same')(x1)\n",
    "x2 = MaxPool2D( (2, 2), padding='same')(x2)\n",
    "x3 = Conv2D(16, (3, 3), activation='relu', padding='same')(x2)\n",
    "encoded    = MaxPool2D( (2, 2), padding='same')(x3)\n",
    "\n",
    "# decoding part\n",
    "x3 = Conv2D(16, (3, 3), activation='relu', padding='same')(encoded)\n",
    "x3 = UpSampling2D((2, 2))(x3)\n",
    "x2 = Conv2D(32, (3, 3), activation='relu', padding='same')(x3)\n",
    "x2 = UpSampling2D((2, 2))(x2)\n",
    "x1 = Conv2D(64, (3, 3), activation='selu')(x2)\n",
    "x1 = UpSampling2D((2, 2))(x1)\n",
    "x0   = Conv2D(1, (3, 3),activation='sigmoid', padding='same')(x1)\n",
    "out = Reshape([28, 28])(x0)\n",
    "\n",
    "\n",
    "# asseembly of the model\n",
    "convEncoderDecoder = keras.models.Model(inputs,out)\n",
    "\n",
    "# summary to verify the structure\n",
    "convEncoderDecoder.summary()\n"
   ]
  },
  {
   "cell_type": "code",
   "execution_count": 21,
   "metadata": {
    "colab": {
     "base_uri": "https://localhost:8080/",
     "height": 382
    },
    "colab_type": "code",
    "id": "AOCjhljsJJtX",
    "outputId": "ff467ff6-f5f0-4287-a338-db1667d2d865"
   },
   "outputs": [
    {
     "name": "stdout",
     "output_type": "stream",
     "text": [
      "Train on 65000 samples, validate on 5000 samples\n",
      "Epoch 1/10\n",
      "65000/65000 [==============================] - 372s 6ms/sample - loss: 0.5629 - val_loss: 0.4753\n",
      "Epoch 2/10\n",
      "65000/65000 [==============================] - 375s 6ms/sample - loss: 0.4106 - val_loss: 0.3817\n",
      "Epoch 3/10\n",
      "65000/65000 [==============================] - 376s 6ms/sample - loss: 0.3225 - val_loss: 0.2950\n",
      "Epoch 4/10\n",
      "65000/65000 [==============================] - 377s 6ms/sample - loss: 0.2662 - val_loss: 0.2601\n",
      "Epoch 5/10\n",
      "65000/65000 [==============================] - 377s 6ms/sample - loss: 0.2443 - val_loss: 0.2446\n",
      "Epoch 6/10\n",
      "65000/65000 [==============================] - 373s 6ms/sample - loss: 0.2318 - val_loss: 0.2334\n",
      "Epoch 7/10\n",
      "65000/65000 [==============================] - 370s 6ms/sample - loss: 0.2228 - val_loss: 0.2253\n",
      "Epoch 8/10\n",
      "65000/65000 [==============================] - 372s 6ms/sample - loss: 0.2160 - val_loss: 0.2191\n",
      "Epoch 9/10\n",
      "65000/65000 [==============================] - 378s 6ms/sample - loss: 0.2108 - val_loss: 0.2142\n",
      "Epoch 10/10\n",
      "65000/65000 [==============================] - 409s 6ms/sample - loss: 0.2064 - val_loss: 0.2098\n"
     ]
    }
   ],
   "source": [
    "# compilation and training\n",
    "convEncoderDecoder.compile(optimizer='adadelta', loss='binary_crossentropy')\n",
    "history = convEncoderDecoder.fit(X_train, X_train, epochs=10,validation_data=[X_valid, X_valid])"
   ]
  },
  {
   "cell_type": "code",
   "execution_count": 22,
   "metadata": {
    "colab": {
     "base_uri": "https://localhost:8080/",
     "height": 279
    },
    "colab_type": "code",
    "id": "ISRSbCO2VBAn",
    "outputId": "24fe7d98-ea34-480d-bfa9-2a5ae13d8d1b"
   },
   "outputs": [
    {
     "data": {
      "image/png": "[encoded data removed]",
      "text/plain": [
       "<Figure size 432x288 with 1 Axes>"
      ]
     },
     "metadata": {
      "tags": []
     },
     "output_type": "display_data"
    }
   ],
   "source": [
    "# summarize history for loss\n",
    "fig, ax1 = plt.subplots()\n",
    "\n",
    "color = 'tab:red'\n",
    "ax1.set_xlabel('epochs')\n",
    "ax1.set_ylabel('loss', color=color)\n",
    "ax1.plot(history.history['loss'], color=color)\n",
    "ax1.tick_params(axis='y', labelcolor=color)"
   ]
  },
  {
   "cell_type": "code",
   "execution_count": 23,
   "metadata": {
    "colab": {
     "base_uri": "https://localhost:8080/",
     "height": 192
    },
    "colab_type": "code",
    "id": "Gy-ITddHegs9",
    "outputId": "891acf20-afce-483b-8286-9ad4d3d24fbb"
   },
   "outputs": [
    {
     "data": {
      "image/png": "[encoded data removed]",
      "text/plain": [
       "<Figure size 540x216 with 10 Axes>"
      ]
     },
     "metadata": {
      "tags": []
     },
     "output_type": "display_data"
    }
   ],
   "source": [
    "# show the actual images vs the reconstruction\n",
    "show_reconstructions(convEncoderDecoder)\n",
    "plt.show()"
   ]
  },
  {
   "cell_type": "markdown",
   "metadata": {
    "colab_type": "text",
    "id": "3-moQeUtDgd9"
   },
   "source": [
    "##Problem 3\n",
    "\n",
    "Creation of a VAE autoencoder"
   ]
  },
  {
   "cell_type": "code",
   "execution_count": 0,
   "metadata": {
    "colab": {},
    "colab_type": "code",
    "id": "l7kO83eNe-Yy"
   },
   "outputs": [],
   "source": [
    "class Sampling(keras.layers.Layer):\n",
    "    def call(self, inputs):\n",
    "        mean, log_var = inputs\n",
    "        return tf.keras.backend.random_normal(tf.shape(log_var)) * tf.keras.backend.exp(log_var / 2) + mean"
   ]
  },
  {
   "cell_type": "code",
   "execution_count": 25,
   "metadata": {
    "colab": {
     "base_uri": "https://localhost:8080/",
     "height": 816
    },
    "colab_type": "code",
    "id": "ZL70E1c3e-Y2",
    "outputId": "d08f6304-1700-4909-efcb-de63b3ae5cc9"
   },
   "outputs": [
    {
     "name": "stdout",
     "output_type": "stream",
     "text": [
      "Model: \"model_3\"\n",
      "__________________________________________________________________________________________________\n",
      "Layer (type)                    Output Shape         Param #     Connected to                     \n",
      "==================================================================================================\n",
      "input_2 (InputLayer)            [(None, 28, 28)]     0                                            \n",
      "__________________________________________________________________________________________________\n",
      "model_1 (Model)                 [(None, 500), (None, 233850      input_2[0][0]                    \n",
      "__________________________________________________________________________________________________\n",
      "model_2 (Model)                 (None, 28, 28)       183634      model_1[1][2]                    \n",
      "__________________________________________________________________________________________________\n",
      "flatten_1 (Flatten)             (None, 784)          0           input_2[0][0]                    \n",
      "__________________________________________________________________________________________________\n",
      "dense_3 (Dense)                 (None, 150)          117750      flatten_1[0][0]                  \n",
      "__________________________________________________________________________________________________\n",
      "dense_4 (Dense)                 (None, 100)          15100       dense_3[0][0]                    \n",
      "__________________________________________________________________________________________________\n",
      "dense_6 (Dense)                 (None, 500)          50500       dense_4[0][0]                    \n",
      "__________________________________________________________________________________________________\n",
      "tf_op_layer_add (TensorFlowOpLa [(None, 500)]        0           dense_6[0][0]                    \n",
      "__________________________________________________________________________________________________\n",
      "tf_op_layer_Exp (TensorFlowOpLa [(None, 500)]        0           dense_6[0][0]                    \n",
      "__________________________________________________________________________________________________\n",
      "dense_5 (Dense)                 (None, 500)          50500       dense_4[0][0]                    \n",
      "__________________________________________________________________________________________________\n",
      "tf_op_layer_sub (TensorFlowOpLa [(None, 500)]        0           tf_op_layer_add[0][0]            \n",
      "                                                                 tf_op_layer_Exp[0][0]            \n",
      "__________________________________________________________________________________________________\n",
      "tf_op_layer_Square (TensorFlowO [(None, 500)]        0           dense_5[0][0]                    \n",
      "__________________________________________________________________________________________________\n",
      "tf_op_layer_sub_1 (TensorFlowOp [(None, 500)]        0           tf_op_layer_sub[0][0]            \n",
      "                                                                 tf_op_layer_Square[0][0]         \n",
      "__________________________________________________________________________________________________\n",
      "tf_op_layer_Sum (TensorFlowOpLa [(None,)]            0           tf_op_layer_sub_1[0][0]          \n",
      "__________________________________________________________________________________________________\n",
      "tf_op_layer_mul (TensorFlowOpLa [(None,)]            0           tf_op_layer_Sum[0][0]            \n",
      "__________________________________________________________________________________________________\n",
      "tf_op_layer_Mean (TensorFlowOpL [()]                 0           tf_op_layer_mul[0][0]            \n",
      "__________________________________________________________________________________________________\n",
      "tf_op_layer_truediv (TensorFlow [()]                 0           tf_op_layer_Mean[0][0]           \n",
      "__________________________________________________________________________________________________\n",
      "add_loss (AddLoss)              ()                   0           tf_op_layer_truediv[0][0]        \n",
      "==================================================================================================\n",
      "Total params: 417,484\n",
      "Trainable params: 417,484\n",
      "Non-trainable params: 0\n",
      "__________________________________________________________________________________________________\n"
     ]
    }
   ],
   "source": [
    "tf.random.set_seed(42)\n",
    "np.random.seed(42)\n",
    "\n",
    "codings_size = 500\n",
    "\n",
    "inputs = keras.layers.Input(shape=[28, 28])\n",
    "z = keras.layers.Flatten()(inputs)\n",
    "z = keras.layers.Dense(150, activation=\"selu\")(z)\n",
    "z = keras.layers.Dense(100, activation=\"selu\")(z)\n",
    "codings_mean = keras.layers.Dense(codings_size)(z)\n",
    "codings_log_var = keras.layers.Dense(codings_size)(z)\n",
    "codings = Sampling()([codings_mean, codings_log_var])\n",
    "variational_encoder = keras.models.Model(\n",
    "    inputs=[inputs], outputs=[codings_mean, codings_log_var, codings])\n",
    "\n",
    "decoder_inputs = keras.layers.Input(shape=[codings_size])\n",
    "x = keras.layers.Dense(100, activation=\"selu\")(decoder_inputs)\n",
    "x = keras.layers.Dense(150, activation=\"selu\")(x)\n",
    "x = keras.layers.Dense(28 * 28, activation=\"sigmoid\")(x)\n",
    "outputs = keras.layers.Reshape([28, 28])(x)\n",
    "variational_decoder = keras.models.Model(inputs=[decoder_inputs], outputs=[outputs])\n",
    "\n",
    "_, _, codings = variational_encoder(inputs)\n",
    "reconstructions = variational_decoder(codings)\n",
    "\n",
    "vaeAutoencoder = keras.models.Model(inputs=[inputs], outputs=[reconstructions])\n",
    "\n",
    "latent_loss = -0.5 * tf.keras.backend.sum(\n",
    "    1 + codings_log_var - tf.keras.backend.exp(codings_log_var) - tf.keras.backend.square(codings_mean),\n",
    "    axis=-1)\n",
    "vaeAutoencoder.add_loss(tf.keras.backend.mean(latent_loss) / 784.)\n",
    "\n",
    "\n",
    "# summary to verify the structure\n",
    "vaeAutoencoder.summary()\n"
   ]
  },
  {
   "cell_type": "code",
   "execution_count": 26,
   "metadata": {
    "colab": {
     "base_uri": "https://localhost:8080/",
     "height": 903
    },
    "colab_type": "code",
    "id": "82wf0MW6e-Y8",
    "outputId": "b8437580-bd2f-4b2d-b644-089261e680a8"
   },
   "outputs": [
    {
     "name": "stdout",
     "output_type": "stream",
     "text": [
      "Train on 65000 samples, validate on 5000 samples\n",
      "Epoch 1/25\n",
      "65000/65000 [==============================] - 17s 269us/sample - loss: 0.2450 - rounded_accuracy: 0.8938 - val_loss: 0.2136 - val_rounded_accuracy: 0.9177\n",
      "Epoch 2/25\n",
      "65000/65000 [==============================] - 16s 253us/sample - loss: 0.1996 - rounded_accuracy: 0.9217 - val_loss: 0.1920 - val_rounded_accuracy: 0.9295\n",
      "Epoch 3/25\n",
      "65000/65000 [==============================] - 16s 243us/sample - loss: 0.1868 - rounded_accuracy: 0.9303 - val_loss: 0.1817 - val_rounded_accuracy: 0.9362\n",
      "Epoch 4/25\n",
      "65000/65000 [==============================] - 16s 240us/sample - loss: 0.1768 - rounded_accuracy: 0.9365 - val_loss: 0.1714 - val_rounded_accuracy: 0.9408\n",
      "Epoch 5/25\n",
      "65000/65000 [==============================] - 16s 241us/sample - loss: 0.1651 - rounded_accuracy: 0.9429 - val_loss: 0.1600 - val_rounded_accuracy: 0.9477\n",
      "Epoch 6/25\n",
      "65000/65000 [==============================] - 16s 243us/sample - loss: 0.1568 - rounded_accuracy: 0.9476 - val_loss: 0.1521 - val_rounded_accuracy: 0.9523\n",
      "Epoch 7/25\n",
      "65000/65000 [==============================] - 16s 239us/sample - loss: 0.1518 - rounded_accuracy: 0.9507 - val_loss: 0.1489 - val_rounded_accuracy: 0.9543\n",
      "Epoch 8/25\n",
      "65000/65000 [==============================] - 16s 239us/sample - loss: 0.1487 - rounded_accuracy: 0.9527 - val_loss: 0.1471 - val_rounded_accuracy: 0.9558\n",
      "Epoch 9/25\n",
      "65000/65000 [==============================] - 15s 230us/sample - loss: 0.1464 - rounded_accuracy: 0.9543 - val_loss: 0.1447 - val_rounded_accuracy: 0.9568\n",
      "Epoch 10/25\n",
      "65000/65000 [==============================] - 16s 244us/sample - loss: 0.1446 - rounded_accuracy: 0.9556 - val_loss: 0.1430 - val_rounded_accuracy: 0.9580\n",
      "Epoch 11/25\n",
      "65000/65000 [==============================] - 16s 242us/sample - loss: 0.1433 - rounded_accuracy: 0.9565 - val_loss: 0.1418 - val_rounded_accuracy: 0.9592\n",
      "Epoch 12/25\n",
      "65000/65000 [==============================] - 16s 239us/sample - loss: 0.1422 - rounded_accuracy: 0.9572 - val_loss: 0.1418 - val_rounded_accuracy: 0.9592\n",
      "Epoch 13/25\n",
      "65000/65000 [==============================] - 16s 243us/sample - loss: 0.1413 - rounded_accuracy: 0.9579 - val_loss: 0.1405 - val_rounded_accuracy: 0.9597\n",
      "Epoch 14/25\n",
      "65000/65000 [==============================] - 16s 240us/sample - loss: 0.1406 - rounded_accuracy: 0.9584 - val_loss: 0.1394 - val_rounded_accuracy: 0.9606\n",
      "Epoch 15/25\n",
      "65000/65000 [==============================] - 16s 241us/sample - loss: 0.1400 - rounded_accuracy: 0.9588 - val_loss: 0.1390 - val_rounded_accuracy: 0.9607\n",
      "Epoch 16/25\n",
      "65000/65000 [==============================] - 16s 242us/sample - loss: 0.1395 - rounded_accuracy: 0.9592 - val_loss: 0.1384 - val_rounded_accuracy: 0.9611\n",
      "Epoch 17/25\n",
      "65000/65000 [==============================] - 16s 241us/sample - loss: 0.1390 - rounded_accuracy: 0.9594 - val_loss: 0.1381 - val_rounded_accuracy: 0.9612\n",
      "Epoch 18/25\n",
      "65000/65000 [==============================] - 16s 240us/sample - loss: 0.1386 - rounded_accuracy: 0.9597 - val_loss: 0.1374 - val_rounded_accuracy: 0.9616\n",
      "Epoch 19/25\n",
      "65000/65000 [==============================] - 16s 240us/sample - loss: 0.1382 - rounded_accuracy: 0.9599 - val_loss: 0.1387 - val_rounded_accuracy: 0.9612\n",
      "Epoch 20/25\n",
      "65000/65000 [==============================] - 16s 240us/sample - loss: 0.1379 - rounded_accuracy: 0.9602 - val_loss: 0.1367 - val_rounded_accuracy: 0.9620\n",
      "Epoch 21/25\n",
      "65000/65000 [==============================] - 16s 240us/sample - loss: 0.1376 - rounded_accuracy: 0.9604 - val_loss: 0.1360 - val_rounded_accuracy: 0.9625\n",
      "Epoch 22/25\n",
      "65000/65000 [==============================] - 16s 245us/sample - loss: 0.1372 - rounded_accuracy: 0.9606 - val_loss: 0.1364 - val_rounded_accuracy: 0.9624\n",
      "Epoch 23/25\n",
      "65000/65000 [==============================] - 16s 239us/sample - loss: 0.1370 - rounded_accuracy: 0.9607 - val_loss: 0.1364 - val_rounded_accuracy: 0.9621\n",
      "Epoch 24/25\n",
      "65000/65000 [==============================] - 16s 241us/sample - loss: 0.1367 - rounded_accuracy: 0.9609 - val_loss: 0.1364 - val_rounded_accuracy: 0.9620\n",
      "Epoch 25/25\n",
      "65000/65000 [==============================] - 16s 240us/sample - loss: 0.1365 - rounded_accuracy: 0.9611 - val_loss: 0.1358 - val_rounded_accuracy: 0.9625\n"
     ]
    }
   ],
   "source": [
    "# compile and train the autoencoder\n",
    "vaeAutoencoder.compile(loss=\"binary_crossentropy\", optimizer=\"rmsprop\", metrics=[rounded_accuracy])\n",
    "history = vaeAutoencoder.fit(X_train, X_train, epochs=25, batch_size=128,\n",
    "                             validation_data=[X_valid, X_valid])"
   ]
  },
  {
   "cell_type": "code",
   "execution_count": 27,
   "metadata": {
    "colab": {
     "base_uri": "https://localhost:8080/",
     "height": 279
    },
    "colab_type": "code",
    "id": "-WN3JVfhBoRT",
    "outputId": "5f3a661e-fc6b-40c6-bd03-36479547f41d"
   },
   "outputs": [
    {
     "data": {
      "image/png": "[encoded data removed]",
      "text/plain": [
       "<Figure size 432x288 with 1 Axes>"
      ]
     },
     "metadata": {
      "tags": []
     },
     "output_type": "display_data"
    }
   ],
   "source": [
    "# summarize history for loss\n",
    "fig, ax1 = plt.subplots()\n",
    "\n",
    "color = 'tab:red'\n",
    "ax1.set_xlabel('epochs')\n",
    "ax1.set_ylabel('loss', color=color)\n",
    "ax1.plot(history.history['loss'], color=color)\n",
    "ax1.tick_params(axis='y', labelcolor=color)"
   ]
  },
  {
   "cell_type": "code",
   "execution_count": 28,
   "metadata": {
    "colab": {
     "base_uri": "https://localhost:8080/",
     "height": 192
    },
    "colab_type": "code",
    "id": "q4xyvUhBe-ZC",
    "outputId": "2927951a-2539-4cd6-907d-291d4f96de6a"
   },
   "outputs": [
    {
     "data": {
      "image/png": "[encoded data removed]",
      "text/plain": [
       "<Figure size 540x216 with 10 Axes>"
      ]
     },
     "metadata": {
      "tags": []
     },
     "output_type": "display_data"
    }
   ],
   "source": [
    "# show the actual images vs the reconstruction\n",
    "show_reconstructions(vaeAutoencoder)\n",
    "plt.show()"
   ]
  }
 ],
 "metadata": {
  "accelerator": "GPU",
  "colab": {
   "collapsed_sections": [],
   "name": "YCBS258_191122_assignment4_VincentRoy_v2.ipynb",
   "provenance": []
  },
  "kernelspec": {
   "display_name": "Python 3",
   "language": "python",
   "name": "python3"
  },
  "language_info": {
   "codemirror_mode": {
    "name": "ipython",
    "version": 3
   },
   "file_extension": ".py",
   "mimetype": "text/x-python",
   "name": "python",
   "nbconvert_exporter": "python",
   "pygments_lexer": "ipython3",
   "version": "3.7.5"
  }
 },
 "nbformat": 4,
 "nbformat_minor": 1
}
