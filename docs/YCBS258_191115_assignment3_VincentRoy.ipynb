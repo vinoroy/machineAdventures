{
 "cells": [
  {
   "cell_type": "markdown",
   "metadata": {},
   "source": [
    "#YCBS258\n",
    "\n",
    "##Assignment #3\n",
    "\n",
    "Vincent Roy ID : 119244546\n"
   ]
  },
  {
   "cell_type": "code",
   "execution_count": 1,
   "metadata": {},
   "outputs": [
    {
     "name": "stderr",
     "output_type": "stream",
     "text": [
      "Using TensorFlow backend.\n"
     ]
    }
   ],
   "source": [
    "#import all of the necessay modules\n",
    "import numpy as np\n",
    "import matplotlib.pyplot as plt\n",
    "import pandas as pd\n",
    "\n",
    "import random as rand\n",
    "\n",
    "from tensorflow import keras\n",
    "from tensorflow.keras.layers import Dense\n",
    "from tensorflow.keras.datasets import mnist\n",
    "from keras import backend as K\n",
    "\n",
    "from sklearn.metrics import r2_score as r2\n",
    "\n",
    "import quandl"
   ]
  },
  {
   "cell_type": "markdown",
   "metadata": {},
   "source": [
    "###Step 1 - Import data and preliminary analysis"
   ]
  },
  {
   "cell_type": "code",
   "execution_count": 2,
   "metadata": {},
   "outputs": [],
   "source": [
    "# get the data for the Coca Cola stock index\n",
    "data = quandl.get(\"WIKI/KO\")\n",
    "modelVar = 'Close'\n",
    "\n",
    "#data = pd.read_csv('sunspot.txt')\n",
    "#data = quandl.get(\"WIKI/NASDAQOMX/COMP\")\n",
    "#modelVar = 'Sunspots'"
   ]
  },
  {
   "cell_type": "code",
   "execution_count": 3,
   "metadata": {},
   "outputs": [
    {
     "data": {
      "text/html": [
       "<div>\n",
       "<style scoped>\n",
       "    .dataframe tbody tr th:only-of-type {\n",
       "        vertical-align: middle;\n",
       "    }\n",
       "\n",
       "    .dataframe tbody tr th {\n",
       "        vertical-align: top;\n",
       "    }\n",
       "\n",
       "    .dataframe thead th {\n",
       "        text-align: right;\n",
       "    }\n",
       "</style>\n",
       "<table border=\"1\" class=\"dataframe\">\n",
       "  <thead>\n",
       "    <tr style=\"text-align: right;\">\n",
       "      <th></th>\n",
       "      <th>Open</th>\n",
       "      <th>High</th>\n",
       "      <th>Low</th>\n",
       "      <th>Close</th>\n",
       "      <th>Volume</th>\n",
       "      <th>Ex-Dividend</th>\n",
       "      <th>Split Ratio</th>\n",
       "      <th>Adj. Open</th>\n",
       "      <th>Adj. High</th>\n",
       "      <th>Adj. Low</th>\n",
       "      <th>Adj. Close</th>\n",
       "      <th>Adj. Volume</th>\n",
       "    </tr>\n",
       "    <tr>\n",
       "      <th>Date</th>\n",
       "      <th></th>\n",
       "      <th></th>\n",
       "      <th></th>\n",
       "      <th></th>\n",
       "      <th></th>\n",
       "      <th></th>\n",
       "      <th></th>\n",
       "      <th></th>\n",
       "      <th></th>\n",
       "      <th></th>\n",
       "      <th></th>\n",
       "      <th></th>\n",
       "    </tr>\n",
       "  </thead>\n",
       "  <tbody>\n",
       "    <tr>\n",
       "      <th>1962-01-02</th>\n",
       "      <td>101.0</td>\n",
       "      <td>103.75</td>\n",
       "      <td>101.00</td>\n",
       "      <td>101.00</td>\n",
       "      <td>16800.0</td>\n",
       "      <td>0.0</td>\n",
       "      <td>1.0</td>\n",
       "      <td>0.262323</td>\n",
       "      <td>0.269465</td>\n",
       "      <td>0.262323</td>\n",
       "      <td>0.262323</td>\n",
       "      <td>1612800.0</td>\n",
       "    </tr>\n",
       "    <tr>\n",
       "      <th>1962-01-03</th>\n",
       "      <td>99.5</td>\n",
       "      <td>99.50</td>\n",
       "      <td>97.25</td>\n",
       "      <td>98.75</td>\n",
       "      <td>32800.0</td>\n",
       "      <td>0.0</td>\n",
       "      <td>1.0</td>\n",
       "      <td>0.258427</td>\n",
       "      <td>0.258427</td>\n",
       "      <td>0.252583</td>\n",
       "      <td>0.256479</td>\n",
       "      <td>3148800.0</td>\n",
       "    </tr>\n",
       "    <tr>\n",
       "      <th>1962-01-04</th>\n",
       "      <td>99.0</td>\n",
       "      <td>100.25</td>\n",
       "      <td>99.00</td>\n",
       "      <td>99.50</td>\n",
       "      <td>17600.0</td>\n",
       "      <td>0.0</td>\n",
       "      <td>1.0</td>\n",
       "      <td>0.257128</td>\n",
       "      <td>0.260375</td>\n",
       "      <td>0.257128</td>\n",
       "      <td>0.258427</td>\n",
       "      <td>1689600.0</td>\n",
       "    </tr>\n",
       "    <tr>\n",
       "      <th>1962-01-05</th>\n",
       "      <td>99.5</td>\n",
       "      <td>100.75</td>\n",
       "      <td>97.00</td>\n",
       "      <td>97.25</td>\n",
       "      <td>29600.0</td>\n",
       "      <td>0.0</td>\n",
       "      <td>1.0</td>\n",
       "      <td>0.258427</td>\n",
       "      <td>0.261673</td>\n",
       "      <td>0.251934</td>\n",
       "      <td>0.252583</td>\n",
       "      <td>2841600.0</td>\n",
       "    </tr>\n",
       "    <tr>\n",
       "      <th>1962-01-08</th>\n",
       "      <td>96.5</td>\n",
       "      <td>96.50</td>\n",
       "      <td>94.38</td>\n",
       "      <td>96.25</td>\n",
       "      <td>42400.0</td>\n",
       "      <td>0.0</td>\n",
       "      <td>1.0</td>\n",
       "      <td>0.250635</td>\n",
       "      <td>0.250635</td>\n",
       "      <td>0.245129</td>\n",
       "      <td>0.249986</td>\n",
       "      <td>4070400.0</td>\n",
       "    </tr>\n",
       "  </tbody>\n",
       "</table>\n",
       "</div>"
      ],
      "text/plain": [
       "             Open    High     Low   Close   Volume  Ex-Dividend  Split Ratio  \\\n",
       "Date                                                                           \n",
       "1962-01-02  101.0  103.75  101.00  101.00  16800.0          0.0          1.0   \n",
       "1962-01-03   99.5   99.50   97.25   98.75  32800.0          0.0          1.0   \n",
       "1962-01-04   99.0  100.25   99.00   99.50  17600.0          0.0          1.0   \n",
       "1962-01-05   99.5  100.75   97.00   97.25  29600.0          0.0          1.0   \n",
       "1962-01-08   96.5   96.50   94.38   96.25  42400.0          0.0          1.0   \n",
       "\n",
       "            Adj. Open  Adj. High  Adj. Low  Adj. Close  Adj. Volume  \n",
       "Date                                                                 \n",
       "1962-01-02   0.262323   0.269465  0.262323    0.262323    1612800.0  \n",
       "1962-01-03   0.258427   0.258427  0.252583    0.256479    3148800.0  \n",
       "1962-01-04   0.257128   0.260375  0.257128    0.258427    1689600.0  \n",
       "1962-01-05   0.258427   0.261673  0.251934    0.252583    2841600.0  \n",
       "1962-01-08   0.250635   0.250635  0.245129    0.249986    4070400.0  "
      ]
     },
     "execution_count": 3,
     "metadata": {},
     "output_type": "execute_result"
    }
   ],
   "source": [
    "# look at the data\n",
    "data.head()"
   ]
  },
  {
   "cell_type": "code",
   "execution_count": 4,
   "metadata": {},
   "outputs": [
    {
     "name": "stdout",
     "output_type": "stream",
     "text": [
      "<class 'pandas.core.frame.DataFrame'>\n",
      "DatetimeIndex: 14155 entries, 1962-01-02 to 2018-03-27\n",
      "Data columns (total 12 columns):\n",
      "Open           14155 non-null float64\n",
      "High           14155 non-null float64\n",
      "Low            14155 non-null float64\n",
      "Close          14155 non-null float64\n",
      "Volume         14155 non-null float64\n",
      "Ex-Dividend    14155 non-null float64\n",
      "Split Ratio    14155 non-null float64\n",
      "Adj. Open      14155 non-null float64\n",
      "Adj. High      14155 non-null float64\n",
      "Adj. Low       14155 non-null float64\n",
      "Adj. Close     14155 non-null float64\n",
      "Adj. Volume    14155 non-null float64\n",
      "dtypes: float64(12)\n",
      "memory usage: 1.4 MB\n"
     ]
    }
   ],
   "source": [
    "# get info on the columns and data types\n",
    "data.info()"
   ]
  },
  {
   "cell_type": "code",
   "execution_count": 5,
   "metadata": {},
   "outputs": [
    {
     "data": {
      "text/html": [
       "<div>\n",
       "<style scoped>\n",
       "    .dataframe tbody tr th:only-of-type {\n",
       "        vertical-align: middle;\n",
       "    }\n",
       "\n",
       "    .dataframe tbody tr th {\n",
       "        vertical-align: top;\n",
       "    }\n",
       "\n",
       "    .dataframe thead th {\n",
       "        text-align: right;\n",
       "    }\n",
       "</style>\n",
       "<table border=\"1\" class=\"dataframe\">\n",
       "  <thead>\n",
       "    <tr style=\"text-align: right;\">\n",
       "      <th></th>\n",
       "      <th>Open</th>\n",
       "      <th>High</th>\n",
       "      <th>Low</th>\n",
       "      <th>Close</th>\n",
       "      <th>Volume</th>\n",
       "      <th>Ex-Dividend</th>\n",
       "      <th>Split Ratio</th>\n",
       "      <th>Adj. Open</th>\n",
       "      <th>Adj. High</th>\n",
       "      <th>Adj. Low</th>\n",
       "      <th>Adj. Close</th>\n",
       "      <th>Adj. Volume</th>\n",
       "    </tr>\n",
       "  </thead>\n",
       "  <tbody>\n",
       "    <tr>\n",
       "      <th>count</th>\n",
       "      <td>14155.000000</td>\n",
       "      <td>14155.000000</td>\n",
       "      <td>14155.000000</td>\n",
       "      <td>14155.000000</td>\n",
       "      <td>1.415500e+04</td>\n",
       "      <td>14155.000000</td>\n",
       "      <td>14155.000000</td>\n",
       "      <td>14155.000000</td>\n",
       "      <td>14155.000000</td>\n",
       "      <td>14155.000000</td>\n",
       "      <td>14155.000000</td>\n",
       "      <td>1.415500e+04</td>\n",
       "    </tr>\n",
       "    <tr>\n",
       "      <th>mean</th>\n",
       "      <td>63.525195</td>\n",
       "      <td>64.067065</td>\n",
       "      <td>62.994742</td>\n",
       "      <td>63.551890</td>\n",
       "      <td>3.657057e+06</td>\n",
       "      <td>0.005346</td>\n",
       "      <td>1.000495</td>\n",
       "      <td>10.328644</td>\n",
       "      <td>10.412381</td>\n",
       "      <td>10.243999</td>\n",
       "      <td>10.333252</td>\n",
       "      <td>9.147155e+06</td>\n",
       "    </tr>\n",
       "    <tr>\n",
       "      <th>std</th>\n",
       "      <td>27.232504</td>\n",
       "      <td>27.385077</td>\n",
       "      <td>27.105008</td>\n",
       "      <td>27.245187</td>\n",
       "      <td>5.283107e+06</td>\n",
       "      <td>0.047544</td>\n",
       "      <td>0.025211</td>\n",
       "      <td>12.701618</td>\n",
       "      <td>12.787281</td>\n",
       "      <td>12.618481</td>\n",
       "      <td>12.706384</td>\n",
       "      <td>7.932619e+06</td>\n",
       "    </tr>\n",
       "    <tr>\n",
       "      <th>min</th>\n",
       "      <td>28.870000</td>\n",
       "      <td>29.250000</td>\n",
       "      <td>5.180000</td>\n",
       "      <td>28.870000</td>\n",
       "      <td>5.800000e+01</td>\n",
       "      <td>0.000000</td>\n",
       "      <td>1.000000</td>\n",
       "      <td>0.139866</td>\n",
       "      <td>0.140976</td>\n",
       "      <td>0.133837</td>\n",
       "      <td>0.138726</td>\n",
       "      <td>5.568000e+03</td>\n",
       "    </tr>\n",
       "    <tr>\n",
       "      <th>25%</th>\n",
       "      <td>42.880000</td>\n",
       "      <td>43.250000</td>\n",
       "      <td>42.500000</td>\n",
       "      <td>42.880000</td>\n",
       "      <td>3.630000e+04</td>\n",
       "      <td>0.000000</td>\n",
       "      <td>1.000000</td>\n",
       "      <td>0.291334</td>\n",
       "      <td>0.293591</td>\n",
       "      <td>0.289110</td>\n",
       "      <td>0.291519</td>\n",
       "      <td>2.760000e+06</td>\n",
       "    </tr>\n",
       "    <tr>\n",
       "      <th>50%</th>\n",
       "      <td>54.330000</td>\n",
       "      <td>54.880000</td>\n",
       "      <td>53.750000</td>\n",
       "      <td>54.330000</td>\n",
       "      <td>8.135000e+05</td>\n",
       "      <td>0.000000</td>\n",
       "      <td>1.000000</td>\n",
       "      <td>2.633555</td>\n",
       "      <td>2.663604</td>\n",
       "      <td>2.608941</td>\n",
       "      <td>2.638045</td>\n",
       "      <td>7.864700e+06</td>\n",
       "    </tr>\n",
       "    <tr>\n",
       "      <th>75%</th>\n",
       "      <td>76.880000</td>\n",
       "      <td>77.500000</td>\n",
       "      <td>76.250000</td>\n",
       "      <td>76.870000</td>\n",
       "      <td>5.589350e+06</td>\n",
       "      <td>0.000000</td>\n",
       "      <td>1.000000</td>\n",
       "      <td>17.652654</td>\n",
       "      <td>17.852549</td>\n",
       "      <td>17.484096</td>\n",
       "      <td>17.663452</td>\n",
       "      <td>1.296170e+07</td>\n",
       "    </tr>\n",
       "    <tr>\n",
       "      <th>max</th>\n",
       "      <td>155.750000</td>\n",
       "      <td>157.250000</td>\n",
       "      <td>155.500000</td>\n",
       "      <td>155.750000</td>\n",
       "      <td>9.896750e+07</td>\n",
       "      <td>0.780000</td>\n",
       "      <td>3.000000</td>\n",
       "      <td>48.210000</td>\n",
       "      <td>48.615000</td>\n",
       "      <td>47.740000</td>\n",
       "      <td>48.530000</td>\n",
       "      <td>1.241690e+08</td>\n",
       "    </tr>\n",
       "  </tbody>\n",
       "</table>\n",
       "</div>"
      ],
      "text/plain": [
       "               Open          High           Low         Close        Volume  \\\n",
       "count  14155.000000  14155.000000  14155.000000  14155.000000  1.415500e+04   \n",
       "mean      63.525195     64.067065     62.994742     63.551890  3.657057e+06   \n",
       "std       27.232504     27.385077     27.105008     27.245187  5.283107e+06   \n",
       "min       28.870000     29.250000      5.180000     28.870000  5.800000e+01   \n",
       "25%       42.880000     43.250000     42.500000     42.880000  3.630000e+04   \n",
       "50%       54.330000     54.880000     53.750000     54.330000  8.135000e+05   \n",
       "75%       76.880000     77.500000     76.250000     76.870000  5.589350e+06   \n",
       "max      155.750000    157.250000    155.500000    155.750000  9.896750e+07   \n",
       "\n",
       "        Ex-Dividend   Split Ratio     Adj. Open     Adj. High      Adj. Low  \\\n",
       "count  14155.000000  14155.000000  14155.000000  14155.000000  14155.000000   \n",
       "mean       0.005346      1.000495     10.328644     10.412381     10.243999   \n",
       "std        0.047544      0.025211     12.701618     12.787281     12.618481   \n",
       "min        0.000000      1.000000      0.139866      0.140976      0.133837   \n",
       "25%        0.000000      1.000000      0.291334      0.293591      0.289110   \n",
       "50%        0.000000      1.000000      2.633555      2.663604      2.608941   \n",
       "75%        0.000000      1.000000     17.652654     17.852549     17.484096   \n",
       "max        0.780000      3.000000     48.210000     48.615000     47.740000   \n",
       "\n",
       "         Adj. Close   Adj. Volume  \n",
       "count  14155.000000  1.415500e+04  \n",
       "mean      10.333252  9.147155e+06  \n",
       "std       12.706384  7.932619e+06  \n",
       "min        0.138726  5.568000e+03  \n",
       "25%        0.291519  2.760000e+06  \n",
       "50%        2.638045  7.864700e+06  \n",
       "75%       17.663452  1.296170e+07  \n",
       "max       48.530000  1.241690e+08  "
      ]
     },
     "execution_count": 5,
     "metadata": {},
     "output_type": "execute_result"
    }
   ],
   "source": [
    "# get the descriptive statistics of each column of the data set\n",
    "data.describe()"
   ]
  },
  {
   "cell_type": "code",
   "execution_count": 6,
   "metadata": {},
   "outputs": [
    {
     "data": {
      "text/plain": [
       "14155"
      ]
     },
     "execution_count": 6,
     "metadata": {},
     "output_type": "execute_result"
    }
   ],
   "source": [
    "len(data)\n"
   ]
  },
  {
   "cell_type": "code",
   "execution_count": 7,
   "metadata": {},
   "outputs": [
    {
     "name": "stderr",
     "output_type": "stream",
     "text": [
      "/Users/vince/anaconda3/envs/ml/lib/python3.7/site-packages/pandas/plotting/_matplotlib/converter.py:103: FutureWarning: Using an implicitly registered datetime converter for a matplotlib plotting method. The converter was registered by pandas on import. Future versions of pandas will require you to explicitly register matplotlib converters.\n",
      "\n",
      "To register the converters:\n",
      "\t>>> from pandas.plotting import register_matplotlib_converters\n",
      "\t>>> register_matplotlib_converters()\n",
      "  warnings.warn(msg, FutureWarning)\n"
     ]
    },
    {
     "data": {
      "text/plain": [
       "[<matplotlib.lines.Line2D at 0x1a4cf90410>]"
      ]
     },
     "execution_count": 7,
     "metadata": {},
     "output_type": "execute_result"
    },
    {
     "data": {
      "image/png": "[encoded data removed]",
      "text/plain": [
       "<Figure size 432x288 with 1 Axes>"
      ]
     },
     "metadata": {
      "needs_background": "light"
     },
     "output_type": "display_data"
    }
   ],
   "source": [
    "# plot the daily closing values \n",
    "fig, ax = plt.subplots()\n",
    "ax.plot(data.index.values,data[modelVar],'-r')"
   ]
  },
  {
   "cell_type": "markdown",
   "metadata": {},
   "source": [
    "###Step 2 - Prepare the data for modeling"
   ]
  },
  {
   "cell_type": "code",
   "execution_count": 8,
   "metadata": {},
   "outputs": [],
   "source": [
    "# extract the single value that we wish to model\n",
    "data = data[modelVar]"
   ]
  },
  {
   "cell_type": "code",
   "execution_count": 12,
   "metadata": {},
   "outputs": [],
   "source": [
    "# create blocks of trainging data of 60 values in length\n",
    "blockLen = 60\n",
    "X_complete = []\n",
    "y_complete = []\n",
    "\n",
    "# create 2000 data blocks\n",
    "for i in range(2000):\n",
    "     \n",
    "    pos = rand.randint(0, len(data)-60)\n",
    "    \n",
    "    if pos < (len(data) - blockLen - 1):\n",
    "    \n",
    "\n",
    "        temp = data[pos:pos+blockLen].values\n",
    "        \n",
    "        temp2 = temp.reshape(blockLen,1)\n",
    "        \n",
    "        y = data[pos+blockLen+1]\n",
    "        \n",
    "        X_complete.append(temp2)\n",
    "        y_complete.append(y)\n",
    "\n",
    "X_complete = np.stack(X_complete)\n",
    "y_complete = np.stack(y_complete)\n",
    "\n",
    "y_complete = y_complete.reshape(-1,1)"
   ]
  },
  {
   "cell_type": "code",
   "execution_count": 13,
   "metadata": {},
   "outputs": [
    {
     "data": {
      "text/plain": [
       "(2000, 60, 1)"
      ]
     },
     "execution_count": 13,
     "metadata": {},
     "output_type": "execute_result"
    }
   ],
   "source": [
    "X_complete.shape"
   ]
  },
  {
   "cell_type": "code",
   "execution_count": 14,
   "metadata": {},
   "outputs": [],
   "source": [
    "# defing function for plotting the data blocks\n",
    "def plot_series(x, y, color='r'):\n",
    "  plt.plot(x.reshape(-1), 'o-')\n",
    "  plt.scatter(61, y, c=color)\n",
    "  plt.grid(True)"
   ]
  },
  {
   "cell_type": "code",
   "execution_count": 15,
   "metadata": {},
   "outputs": [
    {
     "data": {
      "image/png": "[encoded data removed]",
      "text/plain": [
       "<Figure size 864x288 with 4 Axes>"
      ]
     },
     "metadata": {
      "needs_background": "light"
     },
     "output_type": "display_data"
    }
   ],
   "source": [
    "# randomly plot for data blocks\n",
    "plt.subplots(2,2,figsize=(12,4))\n",
    "\n",
    "serNumber = rand.randint(0,len(X_complete))\n",
    "plt.subplot(1, 4, 1)\n",
    "plot_series(X_complete[serNumber], y_complete[serNumber])\n",
    "\n",
    "serNumber = rand.randint(0,len(X_complete))\n",
    "plt.subplot(1, 4, 2)\n",
    "plot_series(X_complete[serNumber], y_complete[serNumber])\n",
    "\n",
    "serNumber = rand.randint(0,len(X_complete))\n",
    "plt.subplot(1, 4, 3)\n",
    "plot_series(X_complete[serNumber], y_complete[serNumber])\n",
    "\n",
    "serNumber = rand.randint(0,len(X_complete))\n",
    "plt.subplot(1, 4, 4)\n",
    "plot_series(X_complete[serNumber], y_complete[serNumber])"
   ]
  },
  {
   "cell_type": "code",
   "execution_count": 17,
   "metadata": {},
   "outputs": [],
   "source": [
    "# seperate the the data into a training ,validation and test sets\n",
    "X_train = X_complete[:1600]\n",
    "y_train = y_complete[:1600]\n",
    "\n",
    "X_valid = X_complete[1600:1800]\n",
    "y_valid = y_complete[1600:1800]\n",
    "\n",
    "X_test = X_complete[1800:]\n",
    "y_test = y_complete[1800:]"
   ]
  },
  {
   "cell_type": "code",
   "execution_count": 18,
   "metadata": {},
   "outputs": [],
   "source": [
    "# create a data set for the visual comparison\n",
    "temp = data[3000:3000+60].values\n",
    "X_comp = temp.reshape(60,1)\n",
    "X_comp = np.array([X_comp])\n",
    "\n",
    "Y_comp = data[3000+60+1:3000+60+11]\n",
    "Y_comp = np.array(Y_comp)\n",
    "Y_comp = Y_comp.reshape(10,1)\n",
    "Y_comp = np.array([Y_comp])"
   ]
  },
  {
   "cell_type": "markdown",
   "metadata": {},
   "source": [
    "###Step 3 - Create a time series model with a regular connected neural network"
   ]
  },
  {
   "cell_type": "code",
   "execution_count": 48,
   "metadata": {},
   "outputs": [],
   "source": [
    "# custom metric function to calculate the coefficion of dertermination R2\n",
    "def myR2(y_true, y_pred):\n",
    "    SS_res =  K.sum(K.square( y_true-y_pred )) \n",
    "    SS_tot = K.sum(K.square( y_true - K.mean(y_true) ) ) \n",
    "    return ( 1 - SS_res/(SS_tot + K.epsilon()) )"
   ]
  },
  {
   "cell_type": "code",
   "execution_count": 49,
   "metadata": {},
   "outputs": [],
   "source": [
    "# create, compile and fit the regular MLP\n",
    "modelMLP = keras.models.Sequential([\n",
    "    keras.layers.Flatten(input_shape=[60,1]),\n",
    "    keras.layers.Dense(1, input_shape=[60,1])])\n",
    "\n",
    "modelMLP.compile(loss='mse', optimizer='adam',metrics=['mae',myR2])\n",
    "\n",
    "h = modelMLP.fit(X_train, y_train, epochs=100, validation_data=(X_valid, y_valid),verbose=0)"
   ]
  },
  {
   "cell_type": "code",
   "execution_count": 50,
   "metadata": {},
   "outputs": [
    {
     "data": {
      "text/plain": [
       "[7.116605119502291, 1.7832906, 0.9876191]"
      ]
     },
     "execution_count": 50,
     "metadata": {},
     "output_type": "execute_result"
    }
   ],
   "source": [
    "# evaluate the MLP model\n",
    "modelMLP.evaluate(X_test, y_test,verbose=0)"
   ]
  },
  {
   "cell_type": "code",
   "execution_count": 56,
   "metadata": {},
   "outputs": [
    {
     "data": {
      "image/png": "[encoded data removed]",
      "text/plain": [
       "<Figure size 432x288 with 2 Axes>"
      ]
     },
     "metadata": {
      "needs_background": "light"
     },
     "output_type": "display_data"
    }
   ],
   "source": [
    "# summarize history for mae and R2 as a function of the epochs\n",
    "fig, ax1 = plt.subplots()\n",
    "\n",
    "color = 'tab:red'\n",
    "ax1.set_xlabel('epochs')\n",
    "ax1.set_ylabel('mae', color=color)\n",
    "ax1.plot(h.history['mae'], color=color)\n",
    "ax1.tick_params(axis='y', labelcolor=color)\n",
    "\n",
    "ax2 = ax1.twinx()  # instantiate a second axes that shares the same x-axis\n",
    "\n",
    "color = 'tab:blue'\n",
    "ax2.set_ylabel('R2', color=color)  # we already handled the x-label with ax1\n",
    "ax2.plot(h.history['myR2'], color=color)\n",
    "ax2.tick_params(axis='y', labelcolor=color)\n",
    "\n",
    "fig.tight_layout()  # otherwise the right y-label is slightly clipped\n",
    "plt.show()"
   ]
  },
  {
   "cell_type": "code",
   "execution_count": 171,
   "metadata": {},
   "outputs": [],
   "source": [
    "# make predictions for ten steps ahead\n",
    "n_steps = 10\n",
    "\n",
    "XX = X_comp\n",
    "\n",
    "# just predict the value, add it to X and predict the next one, 10 times\n",
    "for step_ahead in range(10):\n",
    "    y_pred_one = modelMLP.predict(XX[:, step_ahead:])[:, np.newaxis, :]\n",
    "    XX = np.concatenate([XX, y_pred_one], axis=1)\n",
    "\n",
    "Y_pred = XX[0,-10:]\n"
   ]
  },
  {
   "cell_type": "code",
   "execution_count": 172,
   "metadata": {},
   "outputs": [
    {
     "data": {
      "text/plain": [
       "<matplotlib.legend.Legend at 0x1a4f1485d0>"
      ]
     },
     "execution_count": 172,
     "metadata": {},
     "output_type": "execute_result"
    },
    {
     "data": {
      "image/png": "[encoded data removed]",
      "text/plain": [
       "<Figure size 432x288 with 1 Axes>"
      ]
     },
     "metadata": {
      "needs_background": "light"
     },
     "output_type": "display_data"
    }
   ],
   "source": [
    "# plot the prediction vs the actual data\n",
    "plt.plot(Y_comp[0],'-k',label='Actual')\n",
    "plt.plot(Y_pred,'-r',label='Prediction')\n",
    "plt.legend(fontsize=14)\n"
   ]
  },
  {
   "cell_type": "markdown",
   "metadata": {},
   "source": [
    "The model metric indicates that the model is pretty good (R2 of 0.98), however when the model is used in prediction the first 10 predictions seem to be off."
   ]
  },
  {
   "cell_type": "markdown",
   "metadata": {},
   "source": [
    "###Step 4 - Create a time series model with a deep RNN architecture"
   ]
  },
  {
   "cell_type": "code",
   "execution_count": 58,
   "metadata": {},
   "outputs": [],
   "source": [
    "# create, compile and fit the deep RNN\n",
    "modelDeepRNN = keras.models.Sequential([\n",
    "    keras.layers.SimpleRNN(20, return_sequences=True, input_shape=[None, 1]),\n",
    "    keras.layers.SimpleRNN(20),\n",
    "    keras.layers.Dense(1)])\n",
    "\n",
    "modelDeepRNN.compile(loss='mse', optimizer='adam',metrics=['mae',myR2])\n",
    "h = modelDeepRNN.fit(X_train, y_train, epochs=200, validation_data=(X_valid, y_valid),verbose=0)"
   ]
  },
  {
   "cell_type": "code",
   "execution_count": 59,
   "metadata": {},
   "outputs": [
    {
     "data": {
      "text/plain": [
       "[14.883249374146157, 1.7037287, 0.9826491]"
      ]
     },
     "execution_count": 59,
     "metadata": {},
     "output_type": "execute_result"
    }
   ],
   "source": [
    "# evaluate the deep RNN model\n",
    "modelDeepRNN.evaluate(X_test, y_test,verbose=0)"
   ]
  },
  {
   "cell_type": "code",
   "execution_count": 60,
   "metadata": {},
   "outputs": [
    {
     "data": {
      "image/png": "[encoded data removed]",
      "text/plain": [
       "<Figure size 432x288 with 2 Axes>"
      ]
     },
     "metadata": {
      "needs_background": "light"
     },
     "output_type": "display_data"
    }
   ],
   "source": [
    "# summarize history for mae and R2 as a function of the epochs\n",
    "fig, ax1 = plt.subplots()\n",
    "\n",
    "color = 'tab:red'\n",
    "ax1.set_xlabel('epochs')\n",
    "ax1.set_ylabel('mae', color=color)\n",
    "ax1.plot(h.history['mae'], color=color)\n",
    "ax1.tick_params(axis='y', labelcolor=color)\n",
    "\n",
    "ax2 = ax1.twinx()  # instantiate a second axes that shares the same x-axis\n",
    "\n",
    "color = 'tab:blue'\n",
    "ax2.set_ylabel('R2', color=color)  # we already handled the x-label with ax1\n",
    "ax2.plot(h.history['myR2'], color=color)\n",
    "ax2.tick_params(axis='y', labelcolor=color)\n",
    "\n",
    "fig.tight_layout()  # otherwise the right y-label is slightly clipped\n",
    "plt.show()"
   ]
  },
  {
   "cell_type": "code",
   "execution_count": 175,
   "metadata": {},
   "outputs": [],
   "source": [
    "# make predictions for ten steps ahead\n",
    "n_steps = 10\n",
    "\n",
    "XX = X_comp\n",
    "\n",
    "# just predict the value, add it to X and predict the next one, 10 times\n",
    "for step_ahead in range(10):\n",
    "    y_pred_one = modelDeepRNN.predict(XX[:, step_ahead:])[:, np.newaxis, :]\n",
    "    XX = np.concatenate([XX, y_pred_one], axis=1)\n",
    "\n",
    "Y_pred = XX[0,-10:]"
   ]
  },
  {
   "cell_type": "code",
   "execution_count": 176,
   "metadata": {},
   "outputs": [
    {
     "data": {
      "text/plain": [
       "<matplotlib.legend.Legend at 0x1a4fc5b2d0>"
      ]
     },
     "execution_count": 176,
     "metadata": {},
     "output_type": "execute_result"
    },
    {
     "data": {
      "image/png": "[encoded data removed]",
      "text/plain": [
       "<Figure size 432x288 with 1 Axes>"
      ]
     },
     "metadata": {
      "needs_background": "light"
     },
     "output_type": "display_data"
    }
   ],
   "source": [
    "# plot the prediction vs the actual data\n",
    "plt.plot(Y_comp[0],'-k',label='Actual')\n",
    "plt.plot(Y_pred,'-r',label='Prediction')\n",
    "plt.legend(fontsize=14)"
   ]
  },
  {
   "cell_type": "markdown",
   "metadata": {},
   "source": [
    "The model metric indicates that the model is pretty good (R2 of 0.98), When the model is used in prediction, the first two predictions are good, however this rapidly deteriorates."
   ]
  },
  {
   "cell_type": "markdown",
   "metadata": {},
   "source": [
    "###Step 5 - Create a time series model with a deep LSTM architecture"
   ]
  },
  {
   "cell_type": "code",
   "execution_count": 177,
   "metadata": {},
   "outputs": [],
   "source": [
    "# create, compile and fit the deep RNN\n",
    "modelLSTM = keras.models.Sequential([\n",
    "    keras.layers.LSTM(20, return_sequences=True, input_shape=[None, 1]),\n",
    "    keras.layers.LSTM(20, return_sequences=True),\n",
    "    keras.layers.Dense(1)])\n",
    "\n",
    "modelLSTM.compile(loss=\"mse\", optimizer=\"adam\", metrics=['mae',myR2])\n",
    "history = modelLSTM.fit(X_train, y_train, epochs=200,validation_data=(X_valid, y_valid),verbose=0)"
   ]
  },
  {
   "cell_type": "code",
   "execution_count": 178,
   "metadata": {},
   "outputs": [
    {
     "data": {
      "text/plain": [
       "[70.98873536130215, 4.6174383, -5.6873612]"
      ]
     },
     "execution_count": 178,
     "metadata": {},
     "output_type": "execute_result"
    }
   ],
   "source": [
    "# evaluate the deep RNN model\n",
    "modelLSTM.evaluate(X_test, y_test,verbose=0)"
   ]
  },
  {
   "cell_type": "code",
   "execution_count": 184,
   "metadata": {},
   "outputs": [
    {
     "data": {
      "image/png": "[encoded data removed]",
      "text/plain": [
       "<Figure size 432x288 with 2 Axes>"
      ]
     },
     "metadata": {
      "needs_background": "light"
     },
     "output_type": "display_data"
    }
   ],
   "source": [
    "# summarize history for mae and R2 as a function of the epochs\n",
    "fig, ax1 = plt.subplots()\n",
    "\n",
    "color = 'tab:red'\n",
    "ax1.set_xlabel('epochs')\n",
    "ax1.set_ylabel('mae', color=color)\n",
    "ax1.plot(history.history['mae'], color=color)\n",
    "ax1.tick_params(axis='y', labelcolor=color)\n",
    "\n",
    "ax2 = ax1.twinx()  # instantiate a second axes that shares the same x-axis\n",
    "\n",
    "color = 'tab:blue'\n",
    "ax2.set_ylabel('R2', color=color)  # we already handled the x-label with ax1\n",
    "ax2.plot(history.history['my_coeffDetermination'], color=color)\n",
    "ax2.tick_params(axis='y', labelcolor=color)\n",
    "\n",
    "fig.tight_layout()  # otherwise the right y-label is slightly clipped\n",
    "plt.show()"
   ]
  },
  {
   "cell_type": "markdown",
   "metadata": {},
   "source": [
    "This model is really bad !!! The R2 value for some reason is below 0."
   ]
  }
 ],
 "metadata": {
  "kernelspec": {
   "display_name": "Python 3",
   "language": "python",
   "name": "python3"
  },
  "language_info": {
   "codemirror_mode": {
    "name": "ipython",
    "version": 3
   },
   "file_extension": ".py",
   "mimetype": "text/x-python",
   "name": "python",
   "nbconvert_exporter": "python",
   "pygments_lexer": "ipython3",
   "version": "3.7.0"
  }
 },
 "nbformat": 4,
 "nbformat_minor": 2
}
