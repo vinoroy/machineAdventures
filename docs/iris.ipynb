{
 "cells": [
  {
   "cell_type": "markdown",
   "metadata": {},
   "source": [
    "# Iris flower classification models\n",
    "\n",
    "The following notebook contains classification models for the iris flower database. The first prediction model uses a logisitc model regression with a softmax for multi class classification. The second approach will use a decision tree mode l for classification. \n",
    "\n",
    "Here are the steps undertaken to develope the models:\n",
    "\n",
    "1) loading the data\n",
    "\n",
    "2) visualize the data\n",
    "\n",
    "3) prepare the data and train the model\n",
    "\n",
    "4) validate the model\n",
    "\n",
    "\n",
    "The data was downloaded from the UCI database\n",
    "https://archive.ics.uci.edu/ml/datasets/Iris"
   ]
  },
  {
   "cell_type": "code",
   "execution_count": 1,
   "metadata": {},
   "outputs": [
    {
     "name": "stderr",
     "output_type": "stream",
     "text": [
      "Using TensorFlow backend.\n"
     ]
    }
   ],
   "source": [
    "%matplotlib inline\n",
    "\n",
    "import pandas as pd\n",
    "import math as mat\n",
    "import numpy as np\n",
    "import matplotlib.pyplot as plt\n",
    "from sklearn import preprocessing\n",
    "from sklearn.model_selection import train_test_split\n",
    "from sklearn.linear_model import LogisticRegression\n",
    "from sklearn.tree import DecisionTreeClassifier\n",
    "from sklearn import tree\n",
    "from sklearn.preprocessing import OneHotEncoder\n",
    "\n",
    "from graphviz import Source\n",
    "\n",
    "\n",
    "from keras.models import Sequential \n",
    "from keras.layers import Dense,Activation,Dropout\n",
    "from keras.optimizers import Adam\n",
    "\n",
    "\n",
    "import seaborn as sns\n",
    "sns.set(color_codes=True)"
   ]
  },
  {
   "cell_type": "markdown",
   "metadata": {},
   "source": [
    "### Step 1 : Load the data"
   ]
  },
  {
   "cell_type": "code",
   "execution_count": 2,
   "metadata": {},
   "outputs": [
    {
     "data": {
      "text/html": [
       "<div>\n",
       "<style>\n",
       "    .dataframe thead tr:only-child th {\n",
       "        text-align: right;\n",
       "    }\n",
       "\n",
       "    .dataframe thead th {\n",
       "        text-align: left;\n",
       "    }\n",
       "\n",
       "    .dataframe tbody tr th {\n",
       "        vertical-align: top;\n",
       "    }\n",
       "</style>\n",
       "<table border=\"1\" class=\"dataframe\">\n",
       "  <thead>\n",
       "    <tr style=\"text-align: right;\">\n",
       "      <th></th>\n",
       "      <th>sepal-length</th>\n",
       "      <th>sepal-width</th>\n",
       "      <th>petal-length</th>\n",
       "      <th>petal-width</th>\n",
       "      <th>class</th>\n",
       "    </tr>\n",
       "  </thead>\n",
       "  <tbody>\n",
       "    <tr>\n",
       "      <th>0</th>\n",
       "      <td>5.1</td>\n",
       "      <td>3.5</td>\n",
       "      <td>1.4</td>\n",
       "      <td>0.2</td>\n",
       "      <td>Iris-setosa</td>\n",
       "    </tr>\n",
       "    <tr>\n",
       "      <th>1</th>\n",
       "      <td>4.9</td>\n",
       "      <td>3.0</td>\n",
       "      <td>1.4</td>\n",
       "      <td>0.2</td>\n",
       "      <td>Iris-setosa</td>\n",
       "    </tr>\n",
       "    <tr>\n",
       "      <th>2</th>\n",
       "      <td>4.7</td>\n",
       "      <td>3.2</td>\n",
       "      <td>1.3</td>\n",
       "      <td>0.2</td>\n",
       "      <td>Iris-setosa</td>\n",
       "    </tr>\n",
       "    <tr>\n",
       "      <th>3</th>\n",
       "      <td>4.6</td>\n",
       "      <td>3.1</td>\n",
       "      <td>1.5</td>\n",
       "      <td>0.2</td>\n",
       "      <td>Iris-setosa</td>\n",
       "    </tr>\n",
       "    <tr>\n",
       "      <th>4</th>\n",
       "      <td>5.0</td>\n",
       "      <td>3.6</td>\n",
       "      <td>1.4</td>\n",
       "      <td>0.2</td>\n",
       "      <td>Iris-setosa</td>\n",
       "    </tr>\n",
       "  </tbody>\n",
       "</table>\n",
       "</div>"
      ],
      "text/plain": [
       "   sepal-length  sepal-width  petal-length  petal-width        class\n",
       "0           5.1          3.5           1.4          0.2  Iris-setosa\n",
       "1           4.9          3.0           1.4          0.2  Iris-setosa\n",
       "2           4.7          3.2           1.3          0.2  Iris-setosa\n",
       "3           4.6          3.1           1.5          0.2  Iris-setosa\n",
       "4           5.0          3.6           1.4          0.2  Iris-setosa"
      ]
     },
     "execution_count": 2,
     "metadata": {},
     "output_type": "execute_result"
    }
   ],
   "source": [
    "# load the data of the iris database\n",
    "data = pd.read_csv('../data/iris.csv')\n",
    "data.head()"
   ]
  },
  {
   "cell_type": "markdown",
   "metadata": {},
   "source": [
    "### Step 2 : Visualize the data\n",
    "\n",
    "Here a matrix plot of the four features (sepal-length, sepal-width, petal-length and petal-width) is generated.\n",
    "We can clearly see the classes of iris flowers with the plot of the petal-length vs petal-width. Hence we woyld expect \n",
    "these two features to come out as classification boundries."
   ]
  },
  {
   "cell_type": "code",
   "execution_count": 3,
   "metadata": {},
   "outputs": [
    {
     "data": {
      "text/plain": [
       "<seaborn.axisgrid.PairGrid at 0x119790a50>"
      ]
     },
     "execution_count": 3,
     "metadata": {},
     "output_type": "execute_result"
    },
    {
     "data": {
      "image/png": "[encoded data removed]",
      "text/plain": [
       "<matplotlib.figure.Figure at 0x1197909d0>"
      ]
     },
     "metadata": {},
     "output_type": "display_data"
    }
   ],
   "source": [
    "sns.set(style=\"ticks\")\n",
    "\n",
    "sns.pairplot(data, hue=\"class\")"
   ]
  },
  {
   "cell_type": "markdown",
   "metadata": {},
   "source": [
    "### Step 3a : Prepare the data and train the logistics model"
   ]
  },
  {
   "cell_type": "code",
   "execution_count": 4,
   "metadata": {
    "collapsed": true
   },
   "outputs": [],
   "source": [
    "# first we need to change the string flower classes for numerical attributes\n",
    "data.loc[data['class'] == 'Iris-setosa', 'class'] = 1\n",
    "data.loc[data['class'] == 'Iris-versicolor', 'class'] = 2\n",
    "data.loc[data['class'] == 'Iris-virginica', 'class'] = 3\n"
   ]
  },
  {
   "cell_type": "code",
   "execution_count": 5,
   "metadata": {
    "collapsed": true
   },
   "outputs": [],
   "source": [
    "# make an array for the features (X) and the targets (y)\n",
    "y = data.as_matrix(columns=['class'])\n",
    "X = data.iloc[:,0:4].values\n",
    "\n",
    "# the data type of the targets must be changed to int values\n",
    "y=y.astype('int')\n",
    "\n",
    "# split the data set into a training portion (66%) and a test portion (33%)\n",
    "X_train, X_test, y_train, y_test = train_test_split(X, y, test_size=0.33, random_state=42)"
   ]
  },
  {
   "cell_type": "code",
   "execution_count": 6,
   "metadata": {},
   "outputs": [
    {
     "name": "stderr",
     "output_type": "stream",
     "text": [
      "/Users/vincentroy/anaconda/envs/py27/lib/python2.7/site-packages/sklearn/utils/validation.py:547: DataConversionWarning: A column-vector y was passed when a 1d array was expected. Please change the shape of y to (n_samples, ), for example using ravel().\n",
      "  y = column_or_1d(y, warn=True)\n"
     ]
    },
    {
     "data": {
      "text/plain": [
       "LogisticRegression(C=10, class_weight=None, dual=False, fit_intercept=True,\n",
       "          intercept_scaling=1, max_iter=100, multi_class='multinomial',\n",
       "          n_jobs=1, penalty='l2', random_state=None, solver='lbfgs',\n",
       "          tol=0.0001, verbose=0, warm_start=False)"
      ]
     },
     "execution_count": 6,
     "metadata": {},
     "output_type": "execute_result"
    }
   ],
   "source": [
    "# train the logisitc model wit ha softmax for multi class predictio \n",
    "modelLog = LogisticRegression(multi_class='multinomial',solver='lbfgs',C=10)\n",
    "modelLog.fit(X_train,y_train)"
   ]
  },
  {
   "cell_type": "markdown",
   "metadata": {},
   "source": [
    "### Step 4a : Validate the logisitcs model\n",
    "\n",
    "The prediction on the test set are made and compared to the actual labels of the test set. A difference vector is caluculated and the sum of the vector taken to get an idea for the number of false predeictions"
   ]
  },
  {
   "cell_type": "code",
   "execution_count": 7,
   "metadata": {
    "collapsed": true
   },
   "outputs": [],
   "source": [
    "# predict the values for the test set\n",
    "pred = modelLog.predict(X_test)"
   ]
  },
  {
   "cell_type": "code",
   "execution_count": 8,
   "metadata": {},
   "outputs": [
    {
     "data": {
      "text/plain": [
       "1"
      ]
     },
     "execution_count": 8,
     "metadata": {},
     "output_type": "execute_result"
    }
   ],
   "source": [
    "# take the difference between the predicted values and the actual values from the test set. Then take the sum \n",
    "# of the differences to see how far off our model is and on how many predictions\n",
    "diff = abs(pred - y_test[:,0])\n",
    "diff.sum()"
   ]
  },
  {
   "cell_type": "markdown",
   "metadata": {},
   "source": [
    "Only one prediction is off from in the test set. This is very good."
   ]
  },
  {
   "cell_type": "markdown",
   "metadata": {},
   "source": [
    "### Step 3b : Train the decision tree model"
   ]
  },
  {
   "cell_type": "code",
   "execution_count": 9,
   "metadata": {},
   "outputs": [
    {
     "data": {
      "text/plain": [
       "DecisionTreeClassifier(class_weight=None, criterion='gini', max_depth=2,\n",
       "            max_features=None, max_leaf_nodes=None,\n",
       "            min_impurity_decrease=0.0, min_impurity_split=None,\n",
       "            min_samples_leaf=1, min_samples_split=2,\n",
       "            min_weight_fraction_leaf=0.0, presort=False, random_state=None,\n",
       "            splitter='best')"
      ]
     },
     "execution_count": 9,
     "metadata": {},
     "output_type": "execute_result"
    }
   ],
   "source": [
    "modelTree = DecisionTreeClassifier(max_depth=2)\n",
    "modelTree.fit(X_train,y_train)"
   ]
  },
  {
   "cell_type": "markdown",
   "metadata": {},
   "source": [
    "### Step 4b : Validate the decision tree model"
   ]
  },
  {
   "cell_type": "code",
   "execution_count": 10,
   "metadata": {},
   "outputs": [
    {
     "data": {
      "text/plain": [
       "1"
      ]
     },
     "execution_count": 10,
     "metadata": {},
     "output_type": "execute_result"
    }
   ],
   "source": [
    "# predict the values for the test set\n",
    "predT = modelTree.predict(X_test)\n",
    "\n",
    "# take the difference between the predicted values and the actual values from the test set. Then take the sum \n",
    "# of the differences to see how far off our model is and on how many predictions\n",
    "diff = abs(predT - y_test[:,0])\n",
    "diff.sum()"
   ]
  },
  {
   "cell_type": "markdown",
   "metadata": {},
   "source": [
    "The decision tree model fits well the data. Only one observation in the test data set is not predicted correctly"
   ]
  },
  {
   "cell_type": "code",
   "execution_count": 11,
   "metadata": {},
   "outputs": [
    {
     "data": {
      "image/svg+xml": [
       "<?xml version=\"1.0\" encoding=\"UTF-8\" standalone=\"no\"?>\n",
       "<!DOCTYPE svg PUBLIC \"-//W3C//DTD SVG 1.1//EN\"\n",
       " \"http://www.w3.org/Graphics/SVG/1.1/DTD/svg11.dtd\">\n",
       "<!-- Generated by graphviz version 2.38.0 (20140413.2041)\n",
       " -->\n",
       "<!-- Title: Tree Pages: 1 -->\n",
       "<svg width=\"320pt\" height=\"258pt\"\n",
       " viewBox=\"0.00 0.00 319.54 258.00\" xmlns=\"http://www.w3.org/2000/svg\" xmlns:xlink=\"http://www.w3.org/1999/xlink\">\n",
       "<g id=\"graph0\" class=\"graph\" transform=\"scale(1 1) rotate(0) translate(4 254)\">\n",
       "<title>Tree</title>\n",
       "<polygon fill=\"white\" stroke=\"none\" points=\"-4,4 -4,-254 315.537,-254 315.537,4 -4,4\"/>\n",
       "<!-- 0 -->\n",
       "<g id=\"node1\" class=\"node\"><title>0</title>\n",
       "<polygon fill=\"none\" stroke=\"black\" points=\"186.307,-250 60.2306,-250 60.2306,-186 186.307,-186 186.307,-250\"/>\n",
       "<text text-anchor=\"middle\" x=\"123.269\" y=\"-234.8\" font-family=\"Times,serif\" font-size=\"14.00\">X[3] &lt;= 0.8</text>\n",
       "<text text-anchor=\"middle\" x=\"123.269\" y=\"-220.8\" font-family=\"Times,serif\" font-size=\"14.00\">gini = 0.666</text>\n",
       "<text text-anchor=\"middle\" x=\"123.269\" y=\"-206.8\" font-family=\"Times,serif\" font-size=\"14.00\">samples = 100</text>\n",
       "<text text-anchor=\"middle\" x=\"123.269\" y=\"-192.8\" font-family=\"Times,serif\" font-size=\"14.00\">value = [31, 35, 34]</text>\n",
       "</g>\n",
       "<!-- 1 -->\n",
       "<g id=\"node2\" class=\"node\"><title>1</title>\n",
       "<polygon fill=\"none\" stroke=\"black\" points=\"112.307,-143 0.230497,-143 0.230497,-93 112.307,-93 112.307,-143\"/>\n",
       "<text text-anchor=\"middle\" x=\"56.2686\" y=\"-127.8\" font-family=\"Times,serif\" font-size=\"14.00\">gini = 0.0</text>\n",
       "<text text-anchor=\"middle\" x=\"56.2686\" y=\"-113.8\" font-family=\"Times,serif\" font-size=\"14.00\">samples = 31</text>\n",
       "<text text-anchor=\"middle\" x=\"56.2686\" y=\"-99.8\" font-family=\"Times,serif\" font-size=\"14.00\">value = [31, 0, 0]</text>\n",
       "</g>\n",
       "<!-- 0&#45;&gt;1 -->\n",
       "<g id=\"edge1\" class=\"edge\"><title>0&#45;&gt;1</title>\n",
       "<path fill=\"none\" stroke=\"black\" d=\"M102.069,-185.992C94.6276,-175.107 86.2455,-162.847 78.7056,-151.818\"/>\n",
       "<polygon fill=\"black\" stroke=\"black\" points=\"81.4065,-149.567 72.8734,-143.288 75.6279,-153.518 81.4065,-149.567\"/>\n",
       "<text text-anchor=\"middle\" x=\"68.2572\" y=\"-163.658\" font-family=\"Times,serif\" font-size=\"14.00\">True</text>\n",
       "</g>\n",
       "<!-- 2 -->\n",
       "<g id=\"node3\" class=\"node\"><title>2</title>\n",
       "<polygon fill=\"none\" stroke=\"black\" points=\"249.807,-150 130.731,-150 130.731,-86 249.807,-86 249.807,-150\"/>\n",
       "<text text-anchor=\"middle\" x=\"190.269\" y=\"-134.8\" font-family=\"Times,serif\" font-size=\"14.00\">X[3] &lt;= 1.75</text>\n",
       "<text text-anchor=\"middle\" x=\"190.269\" y=\"-120.8\" font-family=\"Times,serif\" font-size=\"14.00\">gini = 0.5</text>\n",
       "<text text-anchor=\"middle\" x=\"190.269\" y=\"-106.8\" font-family=\"Times,serif\" font-size=\"14.00\">samples = 69</text>\n",
       "<text text-anchor=\"middle\" x=\"190.269\" y=\"-92.8\" font-family=\"Times,serif\" font-size=\"14.00\">value = [0, 35, 34]</text>\n",
       "</g>\n",
       "<!-- 0&#45;&gt;2 -->\n",
       "<g id=\"edge2\" class=\"edge\"><title>0&#45;&gt;2</title>\n",
       "<path fill=\"none\" stroke=\"black\" d=\"M144.468,-185.992C150.456,-177.234 157.052,-167.585 163.329,-158.404\"/>\n",
       "<polygon fill=\"black\" stroke=\"black\" points=\"166.223,-160.373 168.977,-150.142 160.444,-156.422 166.223,-160.373\"/>\n",
       "<text text-anchor=\"middle\" x=\"173.593\" y=\"-170.513\" font-family=\"Times,serif\" font-size=\"14.00\">False</text>\n",
       "</g>\n",
       "<!-- 3 -->\n",
       "<g id=\"node4\" class=\"node\"><title>3</title>\n",
       "<polygon fill=\"none\" stroke=\"black\" points=\"180.307,-50 68.2305,-50 68.2305,-0 180.307,-0 180.307,-50\"/>\n",
       "<text text-anchor=\"middle\" x=\"124.269\" y=\"-34.8\" font-family=\"Times,serif\" font-size=\"14.00\">gini = 0.188</text>\n",
       "<text text-anchor=\"middle\" x=\"124.269\" y=\"-20.8\" font-family=\"Times,serif\" font-size=\"14.00\">samples = 38</text>\n",
       "<text text-anchor=\"middle\" x=\"124.269\" y=\"-6.8\" font-family=\"Times,serif\" font-size=\"14.00\">value = [0, 34, 4]</text>\n",
       "</g>\n",
       "<!-- 2&#45;&gt;3 -->\n",
       "<g id=\"edge3\" class=\"edge\"><title>2&#45;&gt;3</title>\n",
       "<path fill=\"none\" stroke=\"black\" d=\"M167.74,-85.9375C161.287,-77.0413 154.24,-67.3236 147.733,-58.352\"/>\n",
       "<polygon fill=\"black\" stroke=\"black\" points=\"150.401,-56.0702 141.697,-50.0301 144.735,-60.1801 150.401,-56.0702\"/>\n",
       "</g>\n",
       "<!-- 4 -->\n",
       "<g id=\"node5\" class=\"node\"><title>4</title>\n",
       "<polygon fill=\"none\" stroke=\"black\" points=\"311.307,-50 199.23,-50 199.23,-0 311.307,-0 311.307,-50\"/>\n",
       "<text text-anchor=\"middle\" x=\"255.269\" y=\"-34.8\" font-family=\"Times,serif\" font-size=\"14.00\">gini = 0.062</text>\n",
       "<text text-anchor=\"middle\" x=\"255.269\" y=\"-20.8\" font-family=\"Times,serif\" font-size=\"14.00\">samples = 31</text>\n",
       "<text text-anchor=\"middle\" x=\"255.269\" y=\"-6.8\" font-family=\"Times,serif\" font-size=\"14.00\">value = [0, 1, 30]</text>\n",
       "</g>\n",
       "<!-- 2&#45;&gt;4 -->\n",
       "<g id=\"edge4\" class=\"edge\"><title>2&#45;&gt;4</title>\n",
       "<path fill=\"none\" stroke=\"black\" d=\"M212.456,-85.9375C218.811,-77.0413 225.752,-67.3236 232.16,-58.352\"/>\n",
       "<polygon fill=\"black\" stroke=\"black\" points=\"235.14,-60.2018 238.104,-50.0301 229.444,-56.1331 235.14,-60.2018\"/>\n",
       "</g>\n",
       "</g>\n",
       "</svg>\n"
      ],
      "text/plain": [
       "<graphviz.files.Source at 0x11a7a1610>"
      ]
     },
     "execution_count": 11,
     "metadata": {},
     "output_type": "execute_result"
    }
   ],
   "source": [
    "# graph the decision tree using the graphviz export tool from scikitlearn and the display in the notebook using the\n",
    "# Source class from \n",
    "tree.export_graphviz(modelTree, out_file='tree.dot')\n",
    "Source.from_file('tree.dot')"
   ]
  },
  {
   "cell_type": "markdown",
   "metadata": {},
   "source": [
    "The dicision tree indicates that if the petal length (para X[2]) is smaller than 2.45 cm than it is an Iris-setosa with a probability of 31/31 = 100%, else if the petal width (para X[3]) is smaller than 1.75 cm then the flower is an Iris-versicolor with a probability of 34/38 = 89% and if not then the flower is an Iris-virginica with a probability of 30/31 = 96%."
   ]
  },
  {
   "cell_type": "markdown",
   "metadata": {},
   "source": [
    "Step 3c : Prepare the data and train the neural network"
   ]
  },
  {
   "cell_type": "code",
   "execution_count": 12,
   "metadata": {
    "collapsed": true
   },
   "outputs": [],
   "source": [
    "# one Hot encode the class labels\n",
    "encoder = OneHotEncoder(sparse=False)\n",
    "yHot = encoder.fit_transform(y)\n",
    "\n",
    "\n",
    "# split the data set into a training portion (66%) and a test portion (33%) using the one hot encoded values\n",
    "X_train, X_test, y_train, y_test = train_test_split(X, yHot, test_size=0.33, random_state=42)"
   ]
  },
  {
   "cell_type": "code",
   "execution_count": 13,
   "metadata": {
    "collapsed": true
   },
   "outputs": [],
   "source": [
    "model = Sequential()\n",
    "\n",
    "model.add(Dense(10, input_shape=(4,), activation='relu', name='fc1'))\n",
    "model.add(Dense(10, activation='relu', name='fc2'))\n",
    "model.add(Dense(3, activation='softmax', name='output'))\n",
    "\n",
    "# Adam optimizer with learning rate of 0.001\n",
    "optimizer = Adam(lr=0.001)\n",
    "model.compile(optimizer, loss='categorical_crossentropy', metrics=['accuracy'])\n"
   ]
  },
  {
   "cell_type": "code",
   "execution_count": 14,
   "metadata": {},
   "outputs": [
    {
     "name": "stdout",
     "output_type": "stream",
     "text": [
      "Epoch 1/200\n",
      " - 0s - loss: 1.3395 - acc: 0.3500\n",
      "Epoch 2/200\n",
      " - 0s - loss: 1.2155 - acc: 0.3500\n",
      "Epoch 3/200\n",
      " - 0s - loss: 1.1476 - acc: 0.2800\n",
      "Epoch 4/200\n",
      " - 0s - loss: 1.1077 - acc: 0.3400\n",
      "Epoch 5/200\n",
      " - 0s - loss: 1.0858 - acc: 0.3400\n",
      "Epoch 6/200\n",
      " - 0s - loss: 1.0731 - acc: 0.3400\n",
      "Epoch 7/200\n",
      " - 0s - loss: 1.0666 - acc: 0.3400\n",
      "Epoch 8/200\n",
      " - 0s - loss: 1.0620 - acc: 0.3400\n",
      "Epoch 9/200\n",
      " - 0s - loss: 1.0594 - acc: 0.3400\n",
      "Epoch 10/200\n",
      " - 0s - loss: 1.0557 - acc: 0.3400\n",
      "Epoch 11/200\n",
      " - 0s - loss: 1.0510 - acc: 0.3400\n",
      "Epoch 12/200\n",
      " - 0s - loss: 1.0473 - acc: 0.3400\n",
      "Epoch 13/200\n",
      " - 0s - loss: 1.0434 - acc: 0.3400\n",
      "Epoch 14/200\n",
      " - 0s - loss: 1.0418 - acc: 0.3400\n",
      "Epoch 15/200\n",
      " - 0s - loss: 1.0351 - acc: 0.3400\n",
      "Epoch 16/200\n",
      " - 0s - loss: 1.0334 - acc: 0.3400\n",
      "Epoch 17/200\n",
      " - 0s - loss: 1.0275 - acc: 0.3400\n",
      "Epoch 18/200\n",
      " - 0s - loss: 1.0221 - acc: 0.3400\n",
      "Epoch 19/200\n",
      " - 0s - loss: 1.0177 - acc: 0.3400\n",
      "Epoch 20/200\n",
      " - 0s - loss: 1.0135 - acc: 0.3400\n",
      "Epoch 21/200\n",
      " - 0s - loss: 1.0111 - acc: 0.3400\n",
      "Epoch 22/200\n",
      " - 0s - loss: 1.0040 - acc: 0.3400\n",
      "Epoch 23/200\n",
      " - 0s - loss: 1.0003 - acc: 0.3400\n",
      "Epoch 24/200\n",
      " - 0s - loss: 0.9912 - acc: 0.3400\n",
      "Epoch 25/200\n",
      " - 0s - loss: 0.9866 - acc: 0.3400\n",
      "Epoch 26/200\n",
      " - 0s - loss: 0.9830 - acc: 0.3400\n",
      "Epoch 27/200\n",
      " - 0s - loss: 0.9744 - acc: 0.3400\n",
      "Epoch 28/200\n",
      " - 0s - loss: 0.9678 - acc: 0.3400\n",
      "Epoch 29/200\n",
      " - 0s - loss: 0.9615 - acc: 0.3400\n",
      "Epoch 30/200\n",
      " - 0s - loss: 0.9536 - acc: 0.3400\n",
      "Epoch 31/200\n",
      " - 0s - loss: 0.9482 - acc: 0.3500\n",
      "Epoch 32/200\n",
      " - 0s - loss: 0.9397 - acc: 0.3500\n",
      "Epoch 33/200\n",
      " - 0s - loss: 0.9315 - acc: 0.3600\n",
      "Epoch 34/200\n",
      " - 0s - loss: 0.9242 - acc: 0.3500\n",
      "Epoch 35/200\n",
      " - 0s - loss: 0.9157 - acc: 0.3800\n",
      "Epoch 36/200\n",
      " - 0s - loss: 0.9053 - acc: 0.4200\n",
      "Epoch 37/200\n",
      " - 0s - loss: 0.8960 - acc: 0.4600\n",
      "Epoch 38/200\n",
      " - 0s - loss: 0.8843 - acc: 0.4900\n",
      "Epoch 39/200\n",
      " - 0s - loss: 0.8755 - acc: 0.5100\n",
      "Epoch 40/200\n",
      " - 0s - loss: 0.8630 - acc: 0.5900\n",
      "Epoch 41/200\n",
      " - 0s - loss: 0.8519 - acc: 0.6300\n",
      "Epoch 42/200\n",
      " - 0s - loss: 0.8410 - acc: 0.6500\n",
      "Epoch 43/200\n",
      " - 0s - loss: 0.8264 - acc: 0.6500\n",
      "Epoch 44/200\n",
      " - 0s - loss: 0.8140 - acc: 0.6600\n",
      "Epoch 45/200\n",
      " - 0s - loss: 0.8005 - acc: 0.6900\n",
      "Epoch 46/200\n",
      " - 0s - loss: 0.7874 - acc: 0.7100\n",
      "Epoch 47/200\n",
      " - 0s - loss: 0.7743 - acc: 0.7100\n",
      "Epoch 48/200\n",
      " - 0s - loss: 0.7573 - acc: 0.7200\n",
      "Epoch 49/200\n",
      " - 0s - loss: 0.7448 - acc: 0.7200\n",
      "Epoch 50/200\n",
      " - 0s - loss: 0.7345 - acc: 0.7000\n",
      "Epoch 51/200\n",
      " - 0s - loss: 0.7260 - acc: 0.7200\n",
      "Epoch 52/200\n",
      " - 0s - loss: 0.7155 - acc: 0.7300\n",
      "Epoch 53/200\n",
      " - 0s - loss: 0.7073 - acc: 0.7300\n",
      "Epoch 54/200\n",
      " - 0s - loss: 0.6992 - acc: 0.7300\n",
      "Epoch 55/200\n",
      " - 0s - loss: 0.6920 - acc: 0.7300\n",
      "Epoch 56/200\n",
      " - 0s - loss: 0.6848 - acc: 0.7300\n",
      "Epoch 57/200\n",
      " - 0s - loss: 0.6781 - acc: 0.7300\n",
      "Epoch 58/200\n",
      " - 0s - loss: 0.6732 - acc: 0.7200\n",
      "Epoch 59/200\n",
      " - 0s - loss: 0.6652 - acc: 0.7400\n",
      "Epoch 60/200\n",
      " - 0s - loss: 0.6580 - acc: 0.7500\n",
      "Epoch 61/200\n",
      " - 0s - loss: 0.6529 - acc: 0.7600\n",
      "Epoch 62/200\n",
      " - 0s - loss: 0.6484 - acc: 0.8000\n",
      "Epoch 63/200\n",
      " - 0s - loss: 0.6401 - acc: 0.7700\n",
      "Epoch 64/200\n",
      " - 0s - loss: 0.6369 - acc: 0.7800\n",
      "Epoch 65/200\n",
      " - 0s - loss: 0.6275 - acc: 0.8100\n",
      "Epoch 66/200\n",
      " - 0s - loss: 0.6219 - acc: 0.7600\n",
      "Epoch 67/200\n",
      " - 0s - loss: 0.6209 - acc: 0.8000\n",
      "Epoch 68/200\n",
      " - 0s - loss: 0.6112 - acc: 0.7700\n",
      "Epoch 69/200\n",
      " - 0s - loss: 0.6089 - acc: 0.8200\n",
      "Epoch 70/200\n",
      " - 0s - loss: 0.6030 - acc: 0.7500\n",
      "Epoch 71/200\n",
      " - 0s - loss: 0.5955 - acc: 0.7500\n",
      "Epoch 72/200\n",
      " - 0s - loss: 0.5900 - acc: 0.8300\n",
      "Epoch 73/200\n",
      " - 0s - loss: 0.5855 - acc: 0.8600\n",
      "Epoch 74/200\n",
      " - 0s - loss: 0.5814 - acc: 0.8300\n",
      "Epoch 75/200\n",
      " - 0s - loss: 0.5760 - acc: 0.8600\n",
      "Epoch 76/200\n",
      " - 0s - loss: 0.5713 - acc: 0.8700\n",
      "Epoch 77/200\n",
      " - 0s - loss: 0.5677 - acc: 0.8600\n",
      "Epoch 78/200\n",
      " - 0s - loss: 0.5615 - acc: 0.8600\n",
      "Epoch 79/200\n",
      " - 0s - loss: 0.5569 - acc: 0.8700\n",
      "Epoch 80/200\n",
      " - 0s - loss: 0.5533 - acc: 0.8800\n",
      "Epoch 81/200\n",
      " - 0s - loss: 0.5475 - acc: 0.8700\n",
      "Epoch 82/200\n",
      " - 0s - loss: 0.5435 - acc: 0.8700\n",
      "Epoch 83/200\n",
      " - 0s - loss: 0.5398 - acc: 0.8600\n",
      "Epoch 84/200\n",
      " - 0s - loss: 0.5354 - acc: 0.8300\n",
      "Epoch 85/200\n",
      " - 0s - loss: 0.5291 - acc: 0.8900\n",
      "Epoch 86/200\n",
      " - 0s - loss: 0.5253 - acc: 0.9100\n",
      "Epoch 87/200\n",
      " - 0s - loss: 0.5210 - acc: 0.8800\n",
      "Epoch 88/200\n",
      " - 0s - loss: 0.5171 - acc: 0.8800\n",
      "Epoch 89/200\n",
      " - 0s - loss: 0.5121 - acc: 0.9000\n",
      "Epoch 90/200\n",
      " - 0s - loss: 0.5091 - acc: 0.9100\n",
      "Epoch 91/200\n",
      " - 0s - loss: 0.5043 - acc: 0.8900\n",
      "Epoch 92/200\n",
      " - 0s - loss: 0.5024 - acc: 0.8700\n",
      "Epoch 93/200\n",
      " - 0s - loss: 0.4992 - acc: 0.9200\n",
      "Epoch 94/200\n",
      " - 0s - loss: 0.4928 - acc: 0.9000\n",
      "Epoch 95/200\n",
      " - 0s - loss: 0.4894 - acc: 0.8800\n",
      "Epoch 96/200\n",
      " - 0s - loss: 0.4844 - acc: 0.8900\n",
      "Epoch 97/200\n",
      " - 0s - loss: 0.4827 - acc: 0.9200\n",
      "Epoch 98/200\n",
      " - 0s - loss: 0.4774 - acc: 0.8800\n",
      "Epoch 99/200\n",
      " - 0s - loss: 0.4751 - acc: 0.8900\n",
      "Epoch 100/200\n",
      " - 0s - loss: 0.4710 - acc: 0.9300\n",
      "Epoch 101/200\n",
      " - 0s - loss: 0.4655 - acc: 0.9000\n",
      "Epoch 102/200\n",
      " - 0s - loss: 0.4608 - acc: 0.8900\n",
      "Epoch 103/200\n",
      " - 0s - loss: 0.4583 - acc: 0.9400\n",
      "Epoch 104/200\n",
      " - 0s - loss: 0.4531 - acc: 0.9200\n",
      "Epoch 105/200\n",
      " - 0s - loss: 0.4500 - acc: 0.9100\n",
      "Epoch 106/200\n",
      " - 0s - loss: 0.4462 - acc: 0.9200\n",
      "Epoch 107/200\n",
      " - 0s - loss: 0.4419 - acc: 0.9200\n",
      "Epoch 108/200\n",
      " - 0s - loss: 0.4394 - acc: 0.9100\n",
      "Epoch 109/200\n",
      " - 0s - loss: 0.4360 - acc: 0.9000\n",
      "Epoch 110/200\n",
      " - 0s - loss: 0.4322 - acc: 0.9300\n",
      "Epoch 111/200\n",
      " - 0s - loss: 0.4278 - acc: 0.9500\n",
      "Epoch 112/200\n",
      " - 0s - loss: 0.4246 - acc: 0.9100\n",
      "Epoch 113/200\n",
      " - 0s - loss: 0.4228 - acc: 0.9200\n",
      "Epoch 114/200\n",
      " - 0s - loss: 0.4190 - acc: 0.9200\n",
      "Epoch 115/200\n",
      " - 0s - loss: 0.4141 - acc: 0.9400\n",
      "Epoch 116/200\n",
      " - 0s - loss: 0.4110 - acc: 0.9600\n",
      "Epoch 117/200\n",
      " - 0s - loss: 0.4069 - acc: 0.9100\n",
      "Epoch 118/200\n",
      " - 0s - loss: 0.4038 - acc: 0.9200\n",
      "Epoch 119/200\n",
      " - 0s - loss: 0.4001 - acc: 0.9600\n",
      "Epoch 120/200\n",
      " - 0s - loss: 0.4002 - acc: 0.9600\n",
      "Epoch 121/200\n",
      " - 0s - loss: 0.3945 - acc: 0.9400\n",
      "Epoch 122/200\n",
      " - 0s - loss: 0.3900 - acc: 0.9500\n",
      "Epoch 123/200\n",
      " - 0s - loss: 0.3874 - acc: 0.9600\n",
      "Epoch 124/200\n",
      " - 0s - loss: 0.3840 - acc: 0.9600\n",
      "Epoch 125/200\n",
      " - 0s - loss: 0.3808 - acc: 0.9500\n",
      "Epoch 126/200\n",
      " - 0s - loss: 0.3784 - acc: 0.9500\n",
      "Epoch 127/200\n",
      " - 0s - loss: 0.3764 - acc: 0.9600\n",
      "Epoch 128/200\n",
      " - 0s - loss: 0.3729 - acc: 0.9500\n",
      "Epoch 129/200\n",
      " - 0s - loss: 0.3695 - acc: 0.9600\n",
      "Epoch 130/200\n",
      " - 0s - loss: 0.3661 - acc: 0.9600\n",
      "Epoch 131/200\n",
      " - 0s - loss: 0.3638 - acc: 0.9600\n",
      "Epoch 132/200\n",
      " - 0s - loss: 0.3607 - acc: 0.9600\n",
      "Epoch 133/200\n",
      " - 0s - loss: 0.3608 - acc: 0.9600\n",
      "Epoch 134/200\n",
      " - 0s - loss: 0.3527 - acc: 0.9600\n",
      "Epoch 135/200\n",
      " - 0s - loss: 0.3512 - acc: 0.9500\n",
      "Epoch 136/200\n",
      " - 0s - loss: 0.3496 - acc: 0.9500\n",
      "Epoch 137/200\n",
      " - 0s - loss: 0.3472 - acc: 0.9500\n",
      "Epoch 138/200\n",
      " - 0s - loss: 0.3433 - acc: 0.9600\n",
      "Epoch 139/200\n",
      " - 0s - loss: 0.3412 - acc: 0.9600\n",
      "Epoch 140/200\n",
      " - 0s - loss: 0.3374 - acc: 0.9600\n",
      "Epoch 141/200\n",
      " - 0s - loss: 0.3346 - acc: 0.9600\n",
      "Epoch 142/200\n",
      " - 0s - loss: 0.3347 - acc: 0.9400\n",
      "Epoch 143/200\n",
      " - 0s - loss: 0.3288 - acc: 0.9600\n",
      "Epoch 144/200\n",
      " - 0s - loss: 0.3300 - acc: 0.9600\n",
      "Epoch 145/200\n",
      " - 0s - loss: 0.3231 - acc: 0.9600\n",
      "Epoch 146/200\n",
      " - 0s - loss: 0.3220 - acc: 0.9600\n",
      "Epoch 147/200\n",
      " - 0s - loss: 0.3209 - acc: 0.9600\n",
      "Epoch 148/200\n",
      " - 0s - loss: 0.3171 - acc: 0.9600\n",
      "Epoch 149/200\n",
      " - 0s - loss: 0.3142 - acc: 0.9600\n",
      "Epoch 150/200\n",
      " - 0s - loss: 0.3117 - acc: 0.9600\n",
      "Epoch 151/200\n",
      " - 0s - loss: 0.3098 - acc: 0.9600\n",
      "Epoch 152/200\n",
      " - 0s - loss: 0.3085 - acc: 0.9600\n",
      "Epoch 153/200\n",
      " - 0s - loss: 0.3066 - acc: 0.9600\n",
      "Epoch 154/200\n",
      " - 0s - loss: 0.3022 - acc: 0.9600\n",
      "Epoch 155/200\n",
      " - 0s - loss: 0.3018 - acc: 0.9600\n",
      "Epoch 156/200\n",
      " - 0s - loss: 0.3011 - acc: 0.9600\n",
      "Epoch 157/200\n",
      " - 0s - loss: 0.2959 - acc: 0.9700\n",
      "Epoch 158/200\n",
      " - 0s - loss: 0.2922 - acc: 0.9600\n",
      "Epoch 159/200\n",
      " - 0s - loss: 0.2923 - acc: 0.9600\n",
      "Epoch 160/200\n",
      " - 0s - loss: 0.2877 - acc: 0.9600\n",
      "Epoch 161/200\n",
      " - 0s - loss: 0.2880 - acc: 0.9600\n",
      "Epoch 162/200\n",
      " - 0s - loss: 0.2829 - acc: 0.9700\n",
      "Epoch 163/200\n",
      " - 0s - loss: 0.2809 - acc: 0.9700\n",
      "Epoch 164/200\n",
      " - 0s - loss: 0.2794 - acc: 0.9600\n",
      "Epoch 165/200\n",
      " - 0s - loss: 0.2761 - acc: 0.9600\n",
      "Epoch 166/200\n",
      " - 0s - loss: 0.2752 - acc: 0.9600\n",
      "Epoch 167/200\n",
      " - 0s - loss: 0.2735 - acc: 0.9600\n",
      "Epoch 168/200\n",
      " - 0s - loss: 0.2700 - acc: 0.9600\n",
      "Epoch 169/200\n",
      " - 0s - loss: 0.2676 - acc: 0.9600\n",
      "Epoch 170/200\n",
      " - 0s - loss: 0.2697 - acc: 0.9600\n",
      "Epoch 171/200\n",
      " - 0s - loss: 0.2627 - acc: 0.9700\n",
      "Epoch 172/200\n",
      " - 0s - loss: 0.2635 - acc: 0.9600\n",
      "Epoch 173/200\n",
      " - 0s - loss: 0.2594 - acc: 0.9700\n",
      "Epoch 174/200\n",
      " - 0s - loss: 0.2570 - acc: 0.9700\n",
      "Epoch 175/200\n",
      " - 0s - loss: 0.2575 - acc: 0.9700\n",
      "Epoch 176/200\n",
      " - 0s - loss: 0.2538 - acc: 0.9600\n",
      "Epoch 177/200\n",
      " - 0s - loss: 0.2527 - acc: 0.9600\n",
      "Epoch 178/200\n",
      " - 0s - loss: 0.2491 - acc: 0.9600\n",
      "Epoch 179/200\n",
      " - 0s - loss: 0.2473 - acc: 0.9600\n",
      "Epoch 180/200\n",
      " - 0s - loss: 0.2466 - acc: 0.9600\n",
      "Epoch 181/200\n",
      " - 0s - loss: 0.2463 - acc: 0.9600\n",
      "Epoch 182/200\n",
      " - 0s - loss: 0.2422 - acc: 0.9700\n",
      "Epoch 183/200\n",
      " - 0s - loss: 0.2402 - acc: 0.9700\n",
      "Epoch 184/200\n",
      " - 0s - loss: 0.2386 - acc: 0.9600\n",
      "Epoch 185/200\n",
      " - 0s - loss: 0.2353 - acc: 0.9600\n",
      "Epoch 186/200\n",
      " - 0s - loss: 0.2347 - acc: 0.9600\n",
      "Epoch 187/200\n",
      " - 0s - loss: 0.2324 - acc: 0.9700\n",
      "Epoch 188/200\n",
      " - 0s - loss: 0.2303 - acc: 0.9700\n",
      "Epoch 189/200\n",
      " - 0s - loss: 0.2291 - acc: 0.9600\n",
      "Epoch 190/200\n",
      " - 0s - loss: 0.2272 - acc: 0.9700\n",
      "Epoch 191/200\n",
      " - 0s - loss: 0.2264 - acc: 0.9700\n",
      "Epoch 192/200\n",
      " - 0s - loss: 0.2234 - acc: 0.9700\n",
      "Epoch 193/200\n",
      " - 0s - loss: 0.2218 - acc: 0.9700\n",
      "Epoch 194/200\n",
      " - 0s - loss: 0.2204 - acc: 0.9600\n",
      "Epoch 195/200\n",
      " - 0s - loss: 0.2227 - acc: 0.9700\n",
      "Epoch 196/200\n",
      " - 0s - loss: 0.2200 - acc: 0.9600\n",
      "Epoch 197/200\n",
      " - 0s - loss: 0.2165 - acc: 0.9700\n",
      "Epoch 198/200\n",
      " - 0s - loss: 0.2139 - acc: 0.9700\n",
      "Epoch 199/200\n",
      " - 0s - loss: 0.2129 - acc: 0.9700\n",
      "Epoch 200/200\n",
      " - 0s - loss: 0.2102 - acc: 0.9700\n"
     ]
    },
    {
     "data": {
      "text/plain": [
       "<keras.callbacks.History at 0x11a4261d0>"
      ]
     },
     "execution_count": 14,
     "metadata": {},
     "output_type": "execute_result"
    }
   ],
   "source": [
    "model.fit(X_train, y_train, verbose=2, batch_size=5, epochs=200)"
   ]
  },
  {
   "cell_type": "code",
   "execution_count": 15,
   "metadata": {
    "collapsed": true
   },
   "outputs": [],
   "source": [
    "a = model.predict(X_test)"
   ]
  },
  {
   "cell_type": "code",
   "execution_count": 16,
   "metadata": {
    "collapsed": true
   },
   "outputs": [],
   "source": [
    "b = np.round(a,1)"
   ]
  },
  {
   "cell_type": "code",
   "execution_count": 17,
   "metadata": {},
   "outputs": [
    {
     "data": {
      "text/plain": [
       "array([[0, 1, 0],\n",
       "       [1, 0, 0],\n",
       "       [0, 0, 1],\n",
       "       [0, 1, 0],\n",
       "       [0, 1, 0],\n",
       "       [1, 0, 0],\n",
       "       [0, 1, 0],\n",
       "       [0, 0, 1],\n",
       "       [0, 1, 0],\n",
       "       [0, 1, 0],\n",
       "       [0, 0, 1],\n",
       "       [1, 0, 0],\n",
       "       [1, 0, 0],\n",
       "       [1, 0, 0],\n",
       "       [1, 0, 0],\n",
       "       [0, 1, 0],\n",
       "       [0, 0, 1],\n",
       "       [0, 1, 0],\n",
       "       [0, 1, 0],\n",
       "       [0, 0, 1],\n",
       "       [1, 0, 0],\n",
       "       [0, 0, 1],\n",
       "       [1, 0, 0],\n",
       "       [0, 0, 1],\n",
       "       [0, 0, 1],\n",
       "       [0, 0, 1],\n",
       "       [0, 0, 1],\n",
       "       [0, 0, 1],\n",
       "       [1, 0, 0],\n",
       "       [1, 0, 0],\n",
       "       [1, 0, 0],\n",
       "       [1, 0, 0],\n",
       "       [0, 1, 0],\n",
       "       [1, 0, 0],\n",
       "       [1, 0, 0],\n",
       "       [0, 0, 1],\n",
       "       [0, 1, 0],\n",
       "       [1, 0, 0],\n",
       "       [1, 0, 0],\n",
       "       [1, 0, 0],\n",
       "       [0, 0, 1],\n",
       "       [0, 1, 0],\n",
       "       [0, 1, 0],\n",
       "       [1, 0, 0],\n",
       "       [1, 0, 0],\n",
       "       [0, 1, 0],\n",
       "       [0, 0, 0],\n",
       "       [0, 0, 1],\n",
       "       [0, 1, 0],\n",
       "       [0, 0, 1]])"
      ]
     },
     "execution_count": 17,
     "metadata": {},
     "output_type": "execute_result"
    }
   ],
   "source": [
    "c = np.where(b>0.5,1,0)\n",
    "c"
   ]
  },
  {
   "cell_type": "code",
   "execution_count": 18,
   "metadata": {
    "collapsed": true
   },
   "outputs": [],
   "source": [
    "d = np.where(c[:,1]>0,2,0)"
   ]
  },
  {
   "cell_type": "code",
   "execution_count": 19,
   "metadata": {},
   "outputs": [
    {
     "data": {
      "text/plain": [
       "array([2, 0, 0, 2, 2, 0, 2, 0, 2, 2, 0, 0, 0, 0, 0, 2, 0, 2, 2, 0, 0, 0, 0,\n",
       "       0, 0, 0, 0, 0, 0, 0, 0, 0, 2, 0, 0, 0, 2, 0, 0, 0, 0, 2, 2, 0, 0, 2,\n",
       "       0, 0, 2, 0])"
      ]
     },
     "execution_count": 19,
     "metadata": {},
     "output_type": "execute_result"
    }
   ],
   "source": [
    "d"
   ]
  },
  {
   "cell_type": "code",
   "execution_count": 20,
   "metadata": {},
   "outputs": [
    {
     "data": {
      "text/plain": [
       "array([0, 0, 3, 0, 0, 0, 0, 3, 0, 0, 3, 0, 0, 0, 0, 0, 3, 0, 0, 3, 0, 3, 0,\n",
       "       3, 3, 3, 3, 3, 0, 0, 0, 0, 0, 0, 0, 3, 0, 0, 0, 0, 3, 0, 0, 0, 0, 0,\n",
       "       0, 3, 0, 3])"
      ]
     },
     "execution_count": 20,
     "metadata": {},
     "output_type": "execute_result"
    }
   ],
   "source": [
    "e = np.where(c[:,2]>0,3,0)\n",
    "e"
   ]
  },
  {
   "cell_type": "code",
   "execution_count": 21,
   "metadata": {
    "collapsed": true
   },
   "outputs": [],
   "source": [
    "f = c[:,0] + d + e"
   ]
  },
  {
   "cell_type": "code",
   "execution_count": 22,
   "metadata": {},
   "outputs": [
    {
     "data": {
      "text/plain": [
       "array([2, 1, 3, 2, 2, 1, 2, 3, 2, 2, 3, 1, 1, 1, 1, 2, 3, 2, 2, 3, 1, 3, 1,\n",
       "       3, 3, 3, 3, 3, 1, 1, 1, 1, 2, 1, 1, 3, 2, 1, 1, 1, 3, 2, 2, 1, 1, 2,\n",
       "       0, 3, 2, 3])"
      ]
     },
     "execution_count": 22,
     "metadata": {},
     "output_type": "execute_result"
    }
   ],
   "source": [
    "f"
   ]
  },
  {
   "cell_type": "code",
   "execution_count": null,
   "metadata": {
    "collapsed": true
   },
   "outputs": [],
   "source": []
  }
 ],
 "metadata": {
  "kernelspec": {
   "display_name": "Python 2",
   "language": "python",
   "name": "python2"
  },
  "language_info": {
   "codemirror_mode": {
    "name": "ipython",
    "version": 2
   },
   "file_extension": ".py",
   "mimetype": "text/x-python",
   "name": "python",
   "nbconvert_exporter": "python",
   "pygments_lexer": "ipython2",
   "version": "2.7.13"
  }
 },
 "nbformat": 4,
 "nbformat_minor": 2
}
