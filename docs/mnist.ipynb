{
 "cells": [
  {
   "cell_type": "markdown",
   "metadata": {},
   "source": [
    "# MNIST hand written number classification\n",
    "\n",
    "The following notebook creates a MLP (multi layer perceptron) neural nwetwork to classify handwritten images as either a 0 to 9 digit.\n",
    "\n",
    "Here are the steps undertaken to develope the model:\n",
    "\n",
    "1) loading the data\n",
    "\n",
    "2) visualize the data\n",
    "\n",
    "3) prepare the data and train the model\n",
    "\n",
    "4) validate the model\n",
    "\n",
    "The present notebook is based off the following example\n",
    "https://ankivil.com/mnist-database-and-simple-classification-networks/"
   ]
  },
  {
   "cell_type": "code",
   "execution_count": 2,
   "metadata": {
    "collapsed": false
   },
   "outputs": [
    {
     "name": "stderr",
     "output_type": "stream",
     "text": [
      "Using TensorFlow backend.\n"
     ]
    }
   ],
   "source": [
    "from matplotlib import pyplot as plt\n",
    "import numpy as np\n",
    "\n",
    "from sklearn.preprocessing import OneHotEncoder\n",
    "\n",
    "from keras.datasets import mnist\n",
    "from keras.models import Sequential\n",
    "from keras.layers.core import Dense, Dropout, Activation\n",
    "from keras.optimizers import RMSprop\n"
   ]
  },
  {
   "cell_type": "markdown",
   "metadata": {},
   "source": [
    "### Step 1 : Load the data\n",
    "    \n",
    "Since this is such a popular dataset for machine learning the Keras library provides a dataset loader.\n",
    "\n"
   ]
  },
  {
   "cell_type": "code",
   "execution_count": 3,
   "metadata": {
    "collapsed": false
   },
   "outputs": [
    {
     "name": "stdout",
     "output_type": "stream",
     "text": [
      "Downloading data from https://s3.amazonaws.com/img-datasets/mnist.pkl.gz\n",
      "15286272/15296311 [============================>.] - ETA: 0s - ETA: 1 - ETA: 1 - ETA: 1 - ETA:  - ETA: "
     ]
    }
   ],
   "source": [
    "(X_train, y_train), (X_test, y_test) = mnist.load_data()\n"
   ]
  },
  {
   "cell_type": "markdown",
   "metadata": {},
   "source": [
    "### Step 2 : Visualize the data set\n",
    "\n",
    "A function is created to view images."
   ]
  },
  {
   "cell_type": "code",
   "execution_count": 4,
   "metadata": {
    "collapsed": true
   },
   "outputs": [],
   "source": [
    "def displayImage(img):\n",
    "    img = np.array(img, dtype='float')\n",
    "    plt.imshow(img, cmap='gray')\n",
    "    plt.show()\n",
    "    "
   ]
  },
  {
   "cell_type": "code",
   "execution_count": 5,
   "metadata": {
    "collapsed": false
   },
   "outputs": [
    {
     "data": {
      "image/png": "[encoded data removed]",
      "text/plain": [
       "<matplotlib.figure.Figure at 0x115cd6828>"
      ]
     },
     "metadata": {},
     "output_type": "display_data"
    }
   ],
   "source": [
    "# display the image 46 in the data set\n",
    "displayImage(X_train[46])"
   ]
  },
  {
   "cell_type": "markdown",
   "metadata": {},
   "source": [
    "### Step 3 : prepare the data and train the model"
   ]
  },
  {
   "cell_type": "code",
   "execution_count": 66,
   "metadata": {
    "collapsed": true
   },
   "outputs": [],
   "source": [
    "# flatten the data, MLP doesn't use the 2D structure of the data. 784 = 28*28\n",
    "X_train = X_train.reshape(60000, 784)\n",
    "X_test = X_test.reshape(10000, 784)\n",
    " \n",
    "# normalize the values of the pixels from 0 to 1\n",
    "X_train = X_train.astype('float32')\n",
    "X_test = X_test.astype('float32')\n",
    "X_train /= 255\n",
    "X_test /= 255"
   ]
  },
  {
   "cell_type": "code",
   "execution_count": 67,
   "metadata": {
    "collapsed": true
   },
   "outputs": [],
   "source": [
    "# the labels must be trnsformed from a 1d array to a 2d array\n",
    "y_train = np.reshape(y_train,(-1,1))\n",
    "y_test = np.reshape(y_test,(-1,1))"
   ]
  },
  {
   "cell_type": "code",
   "execution_count": 68,
   "metadata": {
    "collapsed": true
   },
   "outputs": [],
   "source": [
    "# one Hot encode the class labels\n",
    "encoder = OneHotEncoder(sparse=False)\n",
    "y_train = encoder.fit_transform(y_train)\n",
    "y_test = encoder.fit_transform(y_test)"
   ]
  },
  {
   "cell_type": "code",
   "execution_count": 69,
   "metadata": {
    "collapsed": true
   },
   "outputs": [],
   "source": [
    "# define the model achitecture\n",
    "model = Sequential()\n",
    "model.add(Dense(512, input_shape=(784,)))\n",
    "model.add(Activation('relu'))\n",
    "model.add(Dropout(0.2))\n",
    "model.add(Dense(512))\n",
    "model.add(Activation('relu'))\n",
    "model.add(Dropout(0.2))\n",
    "model.add(Dense(10)) #Last layer with one output per class\n",
    "model.add(Activation('softmax')) #We want a score simlar to a probability for each class\n",
    " "
   ]
  },
  {
   "cell_type": "code",
   "execution_count": 72,
   "metadata": {
    "collapsed": false
   },
   "outputs": [
    {
     "name": "stderr",
     "output_type": "stream",
     "text": [
      "/Users/vincentroy/anaconda/envs/py27/lib/python2.7/site-packages/keras/models.py:874: UserWarning: The `nb_epoch` argument in `fit` has been renamed `epochs`.\n",
      "  warnings.warn('The `nb_epoch` argument in `fit` '\n"
     ]
    },
    {
     "name": "stdout",
     "output_type": "stream",
     "text": [
      "Train on 60000 samples, validate on 10000 samples\n",
      "Epoch 1/20\n",
      " - 14s - loss: 0.2475 - acc: 0.9232 - val_loss: 0.0960 - val_acc: 0.9703\n",
      "Epoch 2/20\n",
      " - 14s - loss: 0.1020 - acc: 0.9691 - val_loss: 0.0904 - val_acc: 0.9724\n",
      "Epoch 3/20\n",
      " - 14s - loss: 0.0753 - acc: 0.9767 - val_loss: 0.0708 - val_acc: 0.9779\n",
      "Epoch 4/20\n",
      " - 14s - loss: 0.0613 - acc: 0.9815 - val_loss: 0.0858 - val_acc: 0.9780\n",
      "Epoch 5/20\n",
      " - 14s - loss: 0.0498 - acc: 0.9852 - val_loss: 0.0816 - val_acc: 0.9806\n",
      "Epoch 6/20\n",
      " - 14s - loss: 0.0435 - acc: 0.9869 - val_loss: 0.0846 - val_acc: 0.9792\n",
      "Epoch 7/20\n",
      " - 14s - loss: 0.0367 - acc: 0.9883 - val_loss: 0.0817 - val_acc: 0.9820\n",
      "Epoch 8/20\n",
      " - 14s - loss: 0.0362 - acc: 0.9897 - val_loss: 0.0878 - val_acc: 0.9801\n",
      "Epoch 9/20\n",
      " - 15s - loss: 0.0318 - acc: 0.9910 - val_loss: 0.0808 - val_acc: 0.9830\n",
      "Epoch 10/20\n",
      " - 15s - loss: 0.0287 - acc: 0.9918 - val_loss: 0.0901 - val_acc: 0.9826\n",
      "Epoch 11/20\n",
      " - 14s - loss: 0.0275 - acc: 0.9919 - val_loss: 0.0793 - val_acc: 0.9840\n",
      "Epoch 12/20\n",
      " - 14s - loss: 0.0264 - acc: 0.9923 - val_loss: 0.0791 - val_acc: 0.9837\n",
      "Epoch 13/20\n",
      " - 14s - loss: 0.0252 - acc: 0.9928 - val_loss: 0.0942 - val_acc: 0.9803\n",
      "Epoch 14/20\n",
      " - 15s - loss: 0.0222 - acc: 0.9938 - val_loss: 0.0943 - val_acc: 0.9818\n",
      "Epoch 15/20\n",
      " - 14s - loss: 0.0222 - acc: 0.9939 - val_loss: 0.1034 - val_acc: 0.9807\n",
      "Epoch 16/20\n",
      " - 14s - loss: 0.0199 - acc: 0.9945 - val_loss: 0.1000 - val_acc: 0.9812\n",
      "Epoch 17/20\n",
      " - 14s - loss: 0.0182 - acc: 0.9948 - val_loss: 0.0999 - val_acc: 0.9835\n",
      "Epoch 18/20\n",
      " - 14s - loss: 0.0192 - acc: 0.9948 - val_loss: 0.1163 - val_acc: 0.9825\n",
      "Epoch 19/20\n",
      " - 15s - loss: 0.0180 - acc: 0.9952 - val_loss: 0.1154 - val_acc: 0.9815\n",
      "Epoch 20/20\n",
      " - 14s - loss: 0.0160 - acc: 0.9958 - val_loss: 0.1281 - val_acc: 0.9815\n",
      "('Test score:', 0.12808593674267987)\n",
      "('Test accuracy:', 0.98150000000000004)\n"
     ]
    }
   ],
   "source": [
    "# Use rmsprop to do the gradient descent see http://www.cs.toronto.edu/~tijmen/csc321/slides/lecture_slides_lec6.pdf\n",
    "# and http://cs231n.github.io/neural-networks-3/#ada\n",
    "rms = RMSprop()\n",
    "# The function to optimize is the cross entropy between the true label and the output (softmax) of the model\n",
    "model.compile(loss='categorical_crossentropy', optimizer=rms, metrics=[\"accuracy\"])\n",
    " \n",
    "# train the model\n",
    "model.fit(X_train, y_train,batch_size=128, nb_epoch=20,verbose=2,validation_data=(X_test, y_test))\n",
    " \n",
    "# evaluate how the model does on the test set\n",
    "score = model.evaluate(X_test, y_test, verbose=0)\n",
    "print('Test score:', score[0])\n",
    "print('Test accuracy:', score[1])"
   ]
  },
  {
   "cell_type": "markdown",
   "metadata": {},
   "source": [
    "# Step 4 : validate the model"
   ]
  },
  {
   "cell_type": "code",
   "execution_count": 95,
   "metadata": {
    "collapsed": true
   },
   "outputs": [],
   "source": [
    "# make a prediction on the first image\n",
    "res = model.predict(X_test[1:2,:])"
   ]
  },
  {
   "cell_type": "code",
   "execution_count": 91,
   "metadata": {
    "collapsed": false
   },
   "outputs": [
    {
     "data": {
      "text/plain": [
       "array([ 0.,  0.,  1.,  0.,  0.,  0.,  0.,  0.,  0.,  0.])"
      ]
     },
     "execution_count": 91,
     "metadata": {},
     "output_type": "execute_result"
    }
   ],
   "source": [
    "# see what the label is for th\n",
    "y_test[1,:]"
   ]
  },
  {
   "cell_type": "code",
   "execution_count": 93,
   "metadata": {
    "collapsed": false
   },
   "outputs": [
    {
     "data": {
      "image/png": "[encoded data removed]",
      "text/plain": [
       "<matplotlib.figure.Figure at 0x11a0e1b90>"
      ]
     },
     "metadata": {},
     "output_type": "display_data"
    }
   ],
   "source": [
    "displayImage(X_test[1].reshape((28,28)))"
   ]
  },
  {
   "cell_type": "code",
   "execution_count": null,
   "metadata": {
    "collapsed": true
   },
   "outputs": [],
   "source": []
  }
 ],
 "metadata": {
  "kernelspec": {
   "display_name": "Python 3",
   "language": "python",
   "name": "python3"
  },
  "language_info": {
   "codemirror_mode": {
    "name": "ipython",
    "version": 3
   },
   "file_extension": ".py",
   "mimetype": "text/x-python",
   "name": "python",
   "nbconvert_exporter": "python",
   "pygments_lexer": "ipython3",
   "version": "3.7.0"
  }
 },
 "nbformat": 4,
 "nbformat_minor": 2
}
