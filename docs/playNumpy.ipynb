{
 "cells": [
  {
   "cell_type": "code",
   "execution_count": 1,
   "metadata": {},
   "outputs": [],
   "source": [
    "import numpy as np"
   ]
  },
  {
   "cell_type": "code",
   "execution_count": 47,
   "metadata": {},
   "outputs": [
    {
     "data": {
      "text/plain": [
       "array([[1, 0, 0, 3, 3, 3, 2, 3],\n",
       "       [2, 4, 2, 3, 2, 1, 2, 4],\n",
       "       [2, 0, 1, 4, 4, 0, 0, 1],\n",
       "       [2, 3, 2, 3, 2, 1, 3, 3],\n",
       "       [4, 2, 3, 1, 0, 2, 2, 4],\n",
       "       [3, 1, 1, 0, 2, 0, 4, 4],\n",
       "       [2, 3, 0, 2, 0, 4, 1, 1],\n",
       "       [1, 2, 4, 3, 0, 1, 1, 4]])"
      ]
     },
     "execution_count": 47,
     "metadata": {},
     "output_type": "execute_result"
    }
   ],
   "source": [
    "# create random np array of ints --> max value \n",
    "randomIntMatrix = np.random.randint(5,size=(8,8))\n",
    "randomIntMatrix"
   ]
  },
  {
   "cell_type": "code",
   "execution_count": 48,
   "metadata": {},
   "outputs": [
    {
     "data": {
      "text/plain": [
       "array([[1., 1., 1., 1.],\n",
       "       [1., 1., 1., 1.],\n",
       "       [1., 1., 1., 1.],\n",
       "       [1., 1., 1., 1.]])"
      ]
     },
     "execution_count": 48,
     "metadata": {},
     "output_type": "execute_result"
    }
   ],
   "source": [
    "# create np array of ones\n",
    "onesMatrix = np.ones((4,4))\n",
    "onesMatrix"
   ]
  },
  {
   "cell_type": "code",
   "execution_count": 49,
   "metadata": {},
   "outputs": [
    {
     "data": {
      "text/plain": [
       "array([[0., 0., 0.],\n",
       "       [0., 0., 0.],\n",
       "       [0., 0., 0.]])"
      ]
     },
     "execution_count": 49,
     "metadata": {},
     "output_type": "execute_result"
    }
   ],
   "source": [
    "zerosMatrix = np.zeros((3,3))\n",
    "zerosMatrix"
   ]
  },
  {
   "cell_type": "code",
   "execution_count": 50,
   "metadata": {},
   "outputs": [
    {
     "data": {
      "text/plain": [
       "array([[1, 0, 0],\n",
       "       [2, 4, 2],\n",
       "       [2, 0, 1],\n",
       "       [2, 3, 2],\n",
       "       [4, 2, 3],\n",
       "       [3, 1, 1],\n",
       "       [2, 3, 0],\n",
       "       [1, 2, 4]])"
      ]
     },
     "execution_count": 50,
     "metadata": {},
     "output_type": "execute_result"
    }
   ],
   "source": [
    "# get the first three columns of the randomInt\n",
    "randomIntMatrix[:,0:3]"
   ]
  },
  {
   "cell_type": "code",
   "execution_count": 55,
   "metadata": {},
   "outputs": [
    {
     "data": {
      "text/plain": [
       "array([66, 80, 72, 22, 21, 90,  7, 53, 39, 88, 66, 28, 84, 21, 62, 44,  7,\n",
       "       95, 61, 74])"
      ]
     },
     "execution_count": 55,
     "metadata": {},
     "output_type": "execute_result"
    }
   ],
   "source": [
    "# create two 1D arrays and stack them horizontaly\n",
    "\n",
    "array1 = np.random.randint(100,size=(20))\n",
    "array1\n",
    "\n",
    "array2 = np.random.randint(100,size=(20))\n",
    "array2\n",
    "\n"
   ]
  },
  {
   "cell_type": "code",
   "execution_count": 57,
   "metadata": {},
   "outputs": [
    {
     "data": {
      "text/plain": [
       "array([[75, 95, 69, 77, 91,  7, 76,  3, 82, 39, 23, 84,  7, 85, 47, 85,\n",
       "         1, 63, 76, 37],\n",
       "       [66, 80, 72, 22, 21, 90,  7, 53, 39, 88, 66, 28, 84, 21, 62, 44,\n",
       "         7, 95, 61, 74]])"
      ]
     },
     "execution_count": 57,
     "metadata": {},
     "output_type": "execute_result"
    }
   ],
   "source": [
    "np.vstack((array1,array2))"
   ]
  },
  {
   "cell_type": "code",
   "execution_count": 62,
   "metadata": {},
   "outputs": [
    {
     "data": {
      "text/plain": [
       "array([[75, 95, 69, 77, 91],\n",
       "       [ 7, 76,  3, 82, 39],\n",
       "       [23, 84,  7, 85, 47],\n",
       "       [85,  1, 63, 76, 37]])"
      ]
     },
     "execution_count": 62,
     "metadata": {},
     "output_type": "execute_result"
    }
   ],
   "source": [
    "array1.reshape(-1,5)"
   ]
  },
  {
   "cell_type": "code",
   "execution_count": 63,
   "metadata": {},
   "outputs": [
    {
     "data": {
      "text/plain": [
       "array([75, 95, 69, 77, 91,  7, 76,  3, 82, 39, 23, 84,  7, 85, 47, 85,  1,\n",
       "       63, 76, 37])"
      ]
     },
     "execution_count": 63,
     "metadata": {},
     "output_type": "execute_result"
    }
   ],
   "source": [
    "array1"
   ]
  },
  {
   "cell_type": "code",
   "execution_count": 72,
   "metadata": {},
   "outputs": [],
   "source": [
    "a = np.reshape(array1,(-1,1))"
   ]
  },
  {
   "cell_type": "code",
   "execution_count": 73,
   "metadata": {},
   "outputs": [],
   "source": [
    "b = np.reshape(array2,(-1,1))"
   ]
  },
  {
   "cell_type": "code",
   "execution_count": 79,
   "metadata": {},
   "outputs": [],
   "source": [
    "c = np.hstack((a,b))"
   ]
  },
  {
   "cell_type": "code",
   "execution_count": 82,
   "metadata": {},
   "outputs": [
    {
     "data": {
      "text/plain": [
       "array([[75, 66, 95, 80, 69, 72, 77, 22, 91, 21,  7, 90, 76,  7,  3, 53,\n",
       "        82, 39, 39, 88],\n",
       "       [23, 66, 84, 28,  7, 84, 85, 21, 47, 62, 85, 44,  1,  7, 63, 95,\n",
       "        76, 61, 37, 74]])"
      ]
     },
     "execution_count": 82,
     "metadata": {},
     "output_type": "execute_result"
    }
   ],
   "source": [
    "np.reshape(c,(2,-1))"
   ]
  },
  {
   "cell_type": "code",
   "execution_count": null,
   "metadata": {},
   "outputs": [],
   "source": []
  }
 ],
 "metadata": {
  "kernelspec": {
   "display_name": "Python 3",
   "language": "python",
   "name": "python3"
  },
  "language_info": {
   "codemirror_mode": {
    "name": "ipython",
    "version": 3
   },
   "file_extension": ".py",
   "mimetype": "text/x-python",
   "name": "python",
   "nbconvert_exporter": "python",
   "pygments_lexer": "ipython3",
   "version": "3.7.0"
  }
 },
 "nbformat": 4,
 "nbformat_minor": 2
}
